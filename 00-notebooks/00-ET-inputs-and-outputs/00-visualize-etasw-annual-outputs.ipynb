{
 "cells": [
  {
   "cell_type": "markdown",
   "metadata": {},
   "source": [
    "# Visualize\n",
    "\n",
    "## WBS\n",
    "\n",
    "1. create an xarray using dask for all annual etasw outputs from a chip\n",
    "\n"
   ]
  },
  {
   "cell_type": "code",
   "execution_count": null,
   "metadata": {},
   "outputs": [],
   "source": [
    "import xarray as xr\n",
    "import hvplot.xarray\n",
    "import dask\n",
    "from dask.distributed import Client, progress\n",
    "#from dask_kubernetes import KubeCluster\n",
    "import os\n",
    "import fsspec"
   ]
  },
  {
   "cell_type": "code",
   "execution_count": null,
   "metadata": {},
   "outputs": [],
   "source": [
    "from pangeoLib.aws_authenticate import aws_authenticate\n",
    "\n",
    "aws_authenticate()"
   ]
  },
  {
   "cell_type": "code",
   "execution_count": null,
   "metadata": {},
   "outputs": [],
   "source": [
    "fs = fsspec.filesystem('s3', anon=False, requester_pays=True)"
   ]
  },
  {
   "cell_type": "code",
   "execution_count": null,
   "metadata": {},
   "outputs": [],
   "source": [
    "file_objects = fs.ls('dev-et-data/tiles/')\n",
    "for file_obj in file_objects:\n",
    "    if '32' in file_obj:\n",
    "        print(file_obj)"
   ]
  },
  {
   "cell_type": "code",
   "execution_count": null,
   "metadata": {},
   "outputs": [],
   "source": [
    "chip='dev-et-data/tiles/tile40N-90E_chip32N-84E'"
   ]
  },
  {
   "cell_type": "code",
   "execution_count": null,
   "metadata": {},
   "outputs": [],
   "source": [
    "def get_etasw_tifs(bucket_prefix_path):\n",
    "    files = fs.ls(bucket_prefix_path)\n",
    "    tifs = [f for f in files if f.endswith('tif')]\n",
    "    etasw_list = [f for f in tifs if 'etasw_' in f]\n",
    "    return(etasw_list)"
   ]
  },
  {
   "cell_type": "code",
   "execution_count": null,
   "metadata": {},
   "outputs": [],
   "source": [
    "ets = get_etasw_tifs(chip)"
   ]
  },
  {
   "cell_type": "code",
   "execution_count": null,
   "metadata": {},
   "outputs": [],
   "source": [
    "\n",
    "years = ['2013', '2014', '2015']\n",
    "\n",
    "et_annual_tifs = []\n",
    "for year in years:\n",
    "    et_tif = f'{chip}/etasw_{year}.tif'\n",
    "    print(et_tif)\n",
    "    et_annual_tifs.append(et_tif)\n",
    "\n"
   ]
  },
  {
   "cell_type": "code",
   "execution_count": null,
   "metadata": {},
   "outputs": [],
   "source": [
    "os.environ[\"AWS_REQUEST_PAYER\"] = \"requester\" \n",
    "\n",
    "client = Client()\n",
    "client"
   ]
  },
  {
   "cell_type": "code",
   "execution_count": null,
   "metadata": {},
   "outputs": [],
   "source": [
    "@dask.delayed\n",
    "def tif_to_da(tif):\n",
    "    return xr.open_rasterio('s3://'+tif, chunks={'band':1, 'x':512, 'y':512})"
   ]
  },
  {
   "cell_type": "code",
   "execution_count": null,
   "metadata": {},
   "outputs": [],
   "source": [
    "%%time\n",
    "tifs = et_annual_tifs\n",
    "lazy_da =[tif_to_da(tif) for tif in tifs]\n",
    "dalist = dask.compute(*lazy_da)\n",
    "da = xr.concat(dalist, dim='band')\n",
    "da = da.rename({'band':'year'})"
   ]
  },
  {
   "cell_type": "code",
   "execution_count": null,
   "metadata": {},
   "outputs": [],
   "source": [
    "!aws s3 ls --request-payer requester dev-et-data/tiles/tile40N-90E_chip32N-84E/etasw_2016.tif"
   ]
  },
  {
   "cell_type": "code",
   "execution_count": null,
   "metadata": {},
   "outputs": [],
   "source": [
    "da"
   ]
  },
  {
   "cell_type": "code",
   "execution_count": null,
   "metadata": {},
   "outputs": [],
   "source": [
    "da = da.assign_coords(year=range(2013,2016))"
   ]
  },
  {
   "cell_type": "code",
   "execution_count": null,
   "metadata": {},
   "outputs": [],
   "source": [
    "da"
   ]
  },
  {
   "cell_type": "code",
   "execution_count": null,
   "metadata": {},
   "outputs": [],
   "source": [
    "ds = da.to_dataset(name='etasw')"
   ]
  },
  {
   "cell_type": "code",
   "execution_count": null,
   "metadata": {},
   "outputs": [],
   "source": [
    "ds"
   ]
  },
  {
   "cell_type": "code",
   "execution_count": null,
   "metadata": {},
   "outputs": [],
   "source": [
    "%%time\n",
    "ds.etasw[1,:,:].load().hvplot(grid=True)"
   ]
  },
  {
   "cell_type": "code",
   "execution_count": null,
   "metadata": {},
   "outputs": [],
   "source": [
    "%%time\n",
    "ds.etasw[1,:,:].load().hvplot(grid=True, width=962, height=962, cmap='viridis')"
   ]
  },
  {
   "cell_type": "code",
   "execution_count": null,
   "metadata": {},
   "outputs": [],
   "source": [
    "#dev-et-data/tiles/tile40N-90E_chip32N-84E/etasw_2016.tif"
   ]
  },
  {
   "cell_type": "code",
   "execution_count": null,
   "metadata": {},
   "outputs": [],
   "source": [
    "import rasterio\n",
    "from shapely.geometry import box\n",
    "file='/vsis3/dev-et-data/tiles/tile40N-90E_chip32N-84E/etasw_2015.tif'\n",
    "src = rasterio.open(file)\n",
    "src.shape\n",
    "row=src.bounds\n",
    "my_useful_geometry = box(row.left, row.bottom, row.right, row.top)"
   ]
  },
  {
   "cell_type": "code",
   "execution_count": null,
   "metadata": {},
   "outputs": [],
   "source": [
    "import folium\n",
    "import geopandas\n",
    "map_osm = folium.Map(location=[30, -82], zoom_start=7)\n",
    "\n",
    "style_function = lambda x: {'fillColor': 'red', 'color': 'green'} \n",
    "\n",
    "\n",
    "my_useful_geojson = geopandas.GeoSeries([my_useful_geometry]).to_json()\n",
    "gjson = folium.GeoJson(my_useful_geojson, style_function=style_function, tooltip=file).add_to(map_osm)\n",
    "\n",
    "map_osm"
   ]
  },
  {
   "cell_type": "code",
   "execution_count": null,
   "metadata": {},
   "outputs": [],
   "source": []
  },
  {
   "cell_type": "code",
   "execution_count": null,
   "metadata": {},
   "outputs": [],
   "source": [
    "ds.sel(year=2013).etasw.load().hvplot(grid=True, width=962, height=962, cmap='viridis')"
   ]
  },
  {
   "cell_type": "code",
   "execution_count": null,
   "metadata": {},
   "outputs": [],
   "source": [
    "ds.sel(year=2015).etasw.load().hvplot(grid=True, width=962, height=962, cmap='viridis')"
   ]
  },
  {
   "cell_type": "code",
   "execution_count": null,
   "metadata": {},
   "outputs": [],
   "source": []
  }
 ],
 "metadata": {
  "kernelspec": {
   "display_name": "Python 3",
   "language": "python",
   "name": "python3"
  },
  "language_info": {
   "codemirror_mode": {
    "name": "ipython",
    "version": 3
   },
   "file_extension": ".py",
   "mimetype": "text/x-python",
   "name": "python",
   "nbconvert_exporter": "python",
   "pygments_lexer": "ipython3",
   "version": "3.7.6"
  }
 },
 "nbformat": 4,
 "nbformat_minor": 4
}
