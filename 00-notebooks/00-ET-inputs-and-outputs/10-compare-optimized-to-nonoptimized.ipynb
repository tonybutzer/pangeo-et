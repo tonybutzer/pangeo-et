{
 "cells": [
  {
   "cell_type": "code",
   "execution_count": null,
   "metadata": {},
   "outputs": [],
   "source": [
    "import xarray as xr\n",
    "import hvplot.xarray\n",
    "import dask\n",
    "from dask.distributed import Client, progress\n",
    "#from dask_kubernetes import KubeCluster\n",
    "import os\n",
    "import fsspec"
   ]
  },
  {
   "cell_type": "code",
   "execution_count": null,
   "metadata": {},
   "outputs": [],
   "source": [
    "from pangeoLib.aws_authenticate import aws_authenticate\n",
    "\n",
    "aws_authenticate()"
   ]
  },
  {
   "cell_type": "code",
   "execution_count": null,
   "metadata": {},
   "outputs": [],
   "source": [
    "fs = fsspec.filesystem('s3', anon=False, requester_pays=True)"
   ]
  },
  {
   "cell_type": "code",
   "execution_count": null,
   "metadata": {},
   "outputs": [],
   "source": [
    "file_objects = fs.ls('dev-et-data/tiles/')\n",
    "for file_obj in file_objects:\n",
    "    if '_o' in file_obj:\n",
    "        print(file_obj)"
   ]
  },
  {
   "cell_type": "code",
   "execution_count": null,
   "metadata": {},
   "outputs": [],
   "source": [
    "def get_etasw_tifs(bucket_prefix_path):\n",
    "    files = fs.ls(bucket_prefix_path)\n",
    "    tifs = [f for f in files if f.endswith('tif')]\n",
    "    etasw_list = [f for f in tifs if 'etasw_' in f]\n",
    "    return(etasw_list)"
   ]
  },
  {
   "cell_type": "code",
   "execution_count": null,
   "metadata": {},
   "outputs": [],
   "source": [
    "chip='dev-et-data/tiles/tile40N-110E_chip40N-110E_o'\n",
    "ets = get_etasw_tifs(chip)"
   ]
  },
  {
   "cell_type": "code",
   "execution_count": null,
   "metadata": {},
   "outputs": [],
   "source": [
    "ets=[]\n",
    "\n",
    "for i in range(1,365+1):\n",
    "    day = '{:03}'.format(i)\n",
    "    #print(day)\n",
    "    tif = chip + '/' + 'etasw_2014' + day + '.tif'\n",
    "    #print(tif)\n",
    "    ets.append(tif)\n",
    "    "
   ]
  },
  {
   "cell_type": "code",
   "execution_count": null,
   "metadata": {},
   "outputs": [],
   "source": [
    "os.environ[\"AWS_REQUEST_PAYER\"] = \"requester\" \n",
    "\n",
    "client = Client()\n",
    "client"
   ]
  },
  {
   "cell_type": "code",
   "execution_count": null,
   "metadata": {},
   "outputs": [],
   "source": [
    "@dask.delayed\n",
    "def tif_to_da(tif):\n",
    "    return xr.open_rasterio('s3://'+tif, chunks={'band':1, 'x':512, 'y':512})"
   ]
  },
  {
   "cell_type": "code",
   "execution_count": null,
   "metadata": {},
   "outputs": [],
   "source": [
    "%%time\n",
    "tifs = ets\n",
    "lazy_da =[tif_to_da(tif) for tif in tifs]\n",
    "dalist = dask.compute(*lazy_da)\n",
    "da = xr.concat(dalist, dim='band')\n",
    "da = da.rename({'band':'yearday'})"
   ]
  },
  {
   "cell_type": "code",
   "execution_count": null,
   "metadata": {},
   "outputs": [],
   "source": [
    "!aws s3 ls --request-payer requester dev-et-data/tiles/tile40N-110E_chip40N-110E_o/etasw_2014059.tif"
   ]
  },
  {
   "cell_type": "code",
   "execution_count": null,
   "metadata": {},
   "outputs": [],
   "source": [
    "da"
   ]
  },
  {
   "cell_type": "code",
   "execution_count": null,
   "metadata": {},
   "outputs": [],
   "source": [
    "da = da.assign_coords(yearday=range(2014001,2014366))"
   ]
  },
  {
   "cell_type": "code",
   "execution_count": null,
   "metadata": {},
   "outputs": [],
   "source": [
    "da"
   ]
  },
  {
   "cell_type": "code",
   "execution_count": null,
   "metadata": {},
   "outputs": [],
   "source": [
    "ds = da.to_dataset(name='etasw')"
   ]
  },
  {
   "cell_type": "code",
   "execution_count": null,
   "metadata": {},
   "outputs": [],
   "source": [
    "#ds.sel(yearday=2014001).etasw.load().hvplot(grid=True, width=962, height=962, cmap='viridis')\n",
    "ds.sel(yearday=2014001).etasw.hvplot(grid=True, width=962, height=962, cmap='viridis')"
   ]
  },
  {
   "cell_type": "code",
   "execution_count": null,
   "metadata": {},
   "outputs": [],
   "source": [
    "ds.sel(yearday=2014180).etasw.hvplot(grid=True, width=962, height=962, cmap='viridis')"
   ]
  },
  {
   "cell_type": "code",
   "execution_count": null,
   "metadata": {},
   "outputs": [],
   "source": [
    "chip='dev-et-data/tiles/tile40N-110E_chip40N-110E'\n",
    "ets=[]\n",
    "\n",
    "for i in range(1,365+1):\n",
    "    day = '{:03}'.format(i)\n",
    "    #print(day)\n",
    "    tif = chip + '/' + 'etasw_2014' + day + '.tif'\n",
    "    #print(tif)\n",
    "    ets.append(tif)"
   ]
  },
  {
   "cell_type": "code",
   "execution_count": null,
   "metadata": {},
   "outputs": [],
   "source": [
    "ets"
   ]
  },
  {
   "cell_type": "code",
   "execution_count": null,
   "metadata": {},
   "outputs": [],
   "source": [
    "%%time\n",
    "tifs = ets\n",
    "lazy_da2 =[tif_to_da(tif) for tif in tifs]\n",
    "dalist2 = dask.compute(*lazy_da2)\n",
    "da2 = xr.concat(dalist, dim='band')\n",
    "da2 = da2.rename({'band':'yearday'})"
   ]
  },
  {
   "cell_type": "code",
   "execution_count": null,
   "metadata": {},
   "outputs": [],
   "source": [
    "da2 = da2.assign_coords(yearday=range(2014001,2014366))"
   ]
  },
  {
   "cell_type": "code",
   "execution_count": null,
   "metadata": {},
   "outputs": [],
   "source": [
    "da2"
   ]
  },
  {
   "cell_type": "code",
   "execution_count": null,
   "metadata": {},
   "outputs": [],
   "source": [
    "ds2 = da2.to_dataset(name='etasw')"
   ]
  },
  {
   "cell_type": "code",
   "execution_count": null,
   "metadata": {},
   "outputs": [],
   "source": [
    "ds2.sel(yearday=2014001).etasw.hvplot(grid=True, width=962, height=962, cmap='viridis')"
   ]
  },
  {
   "cell_type": "code",
   "execution_count": null,
   "metadata": {},
   "outputs": [],
   "source": [
    "ds2.sel(yearday=2014180).etasw.hvplot(grid=True, width=962, height=962, cmap='viridis')"
   ]
  },
  {
   "cell_type": "code",
   "execution_count": null,
   "metadata": {},
   "outputs": [],
   "source": [
    "ary2 = ds2.sel(yearday=2014180).etasw.values"
   ]
  },
  {
   "cell_type": "code",
   "execution_count": null,
   "metadata": {},
   "outputs": [],
   "source": [
    "ary2.shape"
   ]
  },
  {
   "cell_type": "code",
   "execution_count": null,
   "metadata": {},
   "outputs": [],
   "source": [
    "ary = ds.sel(yearday=2014180).etasw.values\n",
    "# ary = ds2.sel(yearday=2014180).etasw.values - sanity check only - "
   ]
  },
  {
   "cell_type": "code",
   "execution_count": null,
   "metadata": {},
   "outputs": [],
   "source": [
    "ary.shape"
   ]
  },
  {
   "cell_type": "code",
   "execution_count": null,
   "metadata": {},
   "outputs": [],
   "source": [
    "import numpy as np\n",
    "np.array_equal(ary,ary2)"
   ]
  },
  {
   "cell_type": "code",
   "execution_count": null,
   "metadata": {},
   "outputs": [],
   "source": [
    "ary[np.isnan(ary)] = 0"
   ]
  },
  {
   "cell_type": "code",
   "execution_count": null,
   "metadata": {},
   "outputs": [],
   "source": [
    "ary.shape"
   ]
  },
  {
   "cell_type": "code",
   "execution_count": null,
   "metadata": {},
   "outputs": [],
   "source": [
    "ary2[np.isnan(ary2)] = 0"
   ]
  },
  {
   "cell_type": "code",
   "execution_count": null,
   "metadata": {},
   "outputs": [],
   "source": [
    "np.array_equal(ary,ary2)"
   ]
  },
  {
   "cell_type": "code",
   "execution_count": null,
   "metadata": {},
   "outputs": [],
   "source": []
  }
 ],
 "metadata": {
  "kernelspec": {
   "display_name": "Python 3",
   "language": "python",
   "name": "python3"
  },
  "language_info": {
   "codemirror_mode": {
    "name": "ipython",
    "version": 3
   },
   "file_extension": ".py",
   "mimetype": "text/x-python",
   "name": "python",
   "nbconvert_exporter": "python",
   "pygments_lexer": "ipython3",
   "version": "3.7.6"
  }
 },
 "nbformat": 4,
 "nbformat_minor": 4
}
