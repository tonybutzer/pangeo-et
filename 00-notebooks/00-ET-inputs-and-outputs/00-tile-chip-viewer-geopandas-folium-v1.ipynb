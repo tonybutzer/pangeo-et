{
 "cells": [
  {
   "cell_type": "markdown",
   "metadata": {},
   "source": [
    "# Goals\n",
    "\n",
    "1. prototype some pangeoLib functions\n",
    "2. organize notebooks for inputs and output classification for ET\n",
    "\n",
    "## prototype\n",
    "1. boto 3 list all tiles\n",
    "2. boto 3 list all outputs in tiles by subset\n",
    "3. build coverage geometries for each tile day 001"
   ]
  },
  {
   "cell_type": "code",
   "execution_count": null,
   "metadata": {},
   "outputs": [],
   "source": [
    "import boto3"
   ]
  },
  {
   "cell_type": "code",
   "execution_count": null,
   "metadata": {},
   "outputs": [],
   "source": [
    "from pangeoLib.aws_authenticate import aws_authenticate\n",
    "\n",
    "aws_authenticate()"
   ]
  },
  {
   "cell_type": "code",
   "execution_count": null,
   "metadata": {},
   "outputs": [],
   "source": [
    "#list_all_tiles()"
   ]
  },
  {
   "cell_type": "code",
   "execution_count": null,
   "metadata": {},
   "outputs": [],
   "source": [
    "# ! aws s3 ls --request-payer requester dev-et-data/tiles/"
   ]
  },
  {
   "cell_type": "markdown",
   "metadata": {},
   "source": [
    "# rio takes too long - research ways to just read the header\n",
    "\n",
    "## USGS network security should be investigated again for slow speed ???"
   ]
  },
  {
   "cell_type": "code",
   "execution_count": null,
   "metadata": {},
   "outputs": [],
   "source": [
    "! rio info /vsis3/dev-et-data/test/compressed/NDVI_filled/2001/2001001.250_m_NDVI.tif"
   ]
  },
  {
   "cell_type": "code",
   "execution_count": null,
   "metadata": {},
   "outputs": [],
   "source": [
    "import fsspec\n",
    "fs = fsspec.filesystem('s3', anon=False, requester_pays=True)\n",
    "chip_list = fs.ls('dev-et-data/tiles/')"
   ]
  },
  {
   "cell_type": "code",
   "execution_count": null,
   "metadata": {},
   "outputs": [],
   "source": [
    "! rio info /vsis3/dev-et-data/tiles/tile40N-100E_chip32N-100E/dd_2014.tif"
   ]
  },
  {
   "cell_type": "code",
   "execution_count": null,
   "metadata": {},
   "outputs": [],
   "source": [
    "import rasterio\n",
    "file='/vsis3/dev-et-data/tiles/tile40N-100E_chip32N-100E/dd_2014.tif'\n",
    "src = rasterio.open(file)\n",
    "src.shape"
   ]
  },
  {
   "cell_type": "code",
   "execution_count": null,
   "metadata": {},
   "outputs": [],
   "source": [
    "#dir(src)\n",
    "\n",
    "src.bounds.left"
   ]
  },
  {
   "cell_type": "code",
   "execution_count": null,
   "metadata": {},
   "outputs": [],
   "source": [
    "#dir(src.bounds)"
   ]
  },
  {
   "cell_type": "markdown",
   "metadata": {},
   "source": [
    "\n",
    "\n",
    "You are almost there with what you tried, and using the box method is indeed the best way. With the list comprehension, you can do\n",
    "\n",
    "b = [box(l, b, r, t) for l, b, r, t in zip(df.left, df.bottom, df.right, df.top)]\n",
    "\n",
    "Another option is to apply the box function to each row of your dataframe:\n",
    "\n",
    "b = df.apply(lambda row: box(row.left, row.bottom, row.right, row.top), axis=1)\n",
    "\n",
    "Once you have converted the bounding boxes to polygons, make sure to actually create a GeoDataFrame:\n",
    "\n",
    "gdf = geopandas.GeoDataFrame(df, geometry=b)\n",
    "\n"
   ]
  },
  {
   "cell_type": "code",
   "execution_count": null,
   "metadata": {},
   "outputs": [],
   "source": [
    "# chip_list"
   ]
  },
  {
   "cell_type": "code",
   "execution_count": null,
   "metadata": {},
   "outputs": [],
   "source": [
    "def get_bounding(file):\n",
    "    try:\n",
    "        src = rasterio.open(file)\n",
    "        return(src.bounds)\n",
    "    except:\n",
    "        pass\n",
    "        "
   ]
  },
  {
   "cell_type": "code",
   "execution_count": null,
   "metadata": {},
   "outputs": [],
   "source": [
    "\n",
    "import pandas as pd\n",
    "\n",
    "def build_df_of_chip_bounds():\n",
    "    df = pd.DataFrame(columns=('Chip', 'left', 'bottom', 'right', 'top'))\n",
    "    i=0\n",
    "    for chip in chip_list:\n",
    "        file = '/vsis3/' + chip + '/dd_2013.tif'\n",
    "        bounds = get_bounding(file)\n",
    "        if not bounds is None:\n",
    "            print(bounds.left)\n",
    "            df.loc[i] =[chip, bounds.left, bounds.bottom, bounds.right, bounds.top]\n",
    "            i=i+1\n",
    "    return(df)"
   ]
  },
  {
   "cell_type": "code",
   "execution_count": null,
   "metadata": {},
   "outputs": [],
   "source": [
    "import time\n",
    "try:\n",
    "    df = pd.read_pickle('tile_catalog_df.pkl')\n",
    "except:\n",
    "    start = time.time()\n",
    "    print(\"build df one time\")\n",
    "    df = build_df_of_chip_bounds()\n",
    "    end = time.time()\n",
    "    print(\"Time it Took =\",end - start)\n",
    "\n",
    "\n"
   ]
  },
  {
   "cell_type": "code",
   "execution_count": null,
   "metadata": {},
   "outputs": [],
   "source": [
    "df.head(30)"
   ]
  },
  {
   "cell_type": "code",
   "execution_count": null,
   "metadata": {},
   "outputs": [],
   "source": [
    "#dir(df)"
   ]
  },
  {
   "cell_type": "code",
   "execution_count": null,
   "metadata": {},
   "outputs": [],
   "source": [
    "df.describe()"
   ]
  },
  {
   "cell_type": "code",
   "execution_count": null,
   "metadata": {},
   "outputs": [],
   "source": [
    "import geopandas\n",
    "from shapely.geometry import box\n",
    "#import shapely.bounding.box as box\n",
    "\n",
    "#Once you have converted the bounding boxes to polygons, make sure to actually create a GeoDataFrame:\n",
    "b = df.apply(lambda row: box(row.left, row.bottom, row.right, row.top), axis=1)\n",
    "gdf = geopandas.GeoDataFrame(df, geometry=b)"
   ]
  },
  {
   "cell_type": "code",
   "execution_count": null,
   "metadata": {},
   "outputs": [],
   "source": [
    "gdf.head()"
   ]
  },
  {
   "cell_type": "code",
   "execution_count": null,
   "metadata": {},
   "outputs": [],
   "source": [
    "import folium\n"
   ]
  },
  {
   "cell_type": "code",
   "execution_count": null,
   "metadata": {},
   "outputs": [],
   "source": [
    "tony_plot_tiles_json = gdf.to_json()"
   ]
  },
  {
   "cell_type": "code",
   "execution_count": null,
   "metadata": {},
   "outputs": [],
   "source": [
    "\n",
    "map_osm = folium.Map(location=[35, -90], zoom_start=5)\n",
    "\n",
    "tile_boxes=folium.features.GeoJson(tony_plot_tiles_json)\n",
    "map_osm.add_child(tile_boxes)\n",
    "map_osm"
   ]
  },
  {
   "cell_type": "code",
   "execution_count": null,
   "metadata": {},
   "outputs": [],
   "source": [
    "my_s= gdf.loc[0]\n",
    "\n",
    "#print(dir(my_s))\n",
    "\n",
    "\n",
    "print(my_s.geometry)\n",
    "\n"
   ]
  },
  {
   "cell_type": "code",
   "execution_count": null,
   "metadata": {},
   "outputs": [],
   "source": [
    "geopandas.GeoSeries([my_s.geometry]).to_json()"
   ]
  },
  {
   "cell_type": "code",
   "execution_count": null,
   "metadata": {},
   "outputs": [],
   "source": [
    "map_osm = folium.Map(location=[35, -90], zoom_start=5)\n",
    "\n",
    "style_function = lambda x: {'fillColor': 'red', 'color': 'green'} \n",
    "\n",
    "for index, row in gdf.iterrows():\n",
    "    # print(row.geometry)\n",
    "    # print(row.Chip)\n",
    "    my_useful_geojson = geopandas.GeoSeries([row.geometry]).to_json()\n",
    "    gjson = folium.GeoJson(my_useful_geojson, style_function=style_function, tooltip=row.Chip).add_to(map_osm)\n",
    "\n",
    "\n",
    "\n",
    "map_osm"
   ]
  },
  {
   "cell_type": "code",
   "execution_count": null,
   "metadata": {},
   "outputs": [],
   "source": [
    "df.to_pickle('tile_catalog_df.pkl')  # where to save it, usually as a .pkl\n",
    "\n",
    "\n",
    "df = pd.read_pickle('tile_catalog_df.pkl')"
   ]
  },
  {
   "cell_type": "code",
   "execution_count": null,
   "metadata": {},
   "outputs": [],
   "source": [
    "df.head()"
   ]
  },
  {
   "cell_type": "code",
   "execution_count": null,
   "metadata": {},
   "outputs": [],
   "source": []
  }
 ],
 "metadata": {
  "kernelspec": {
   "display_name": "Python 3",
   "language": "python",
   "name": "python3"
  },
  "language_info": {
   "codemirror_mode": {
    "name": "ipython",
    "version": 3
   },
   "file_extension": ".py",
   "mimetype": "text/x-python",
   "name": "python",
   "nbconvert_exporter": "python",
   "pygments_lexer": "ipython3",
   "version": "3.7.6"
  }
 },
 "nbformat": 4,
 "nbformat_minor": 4
}
