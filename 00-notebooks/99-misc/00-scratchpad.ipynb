{
 "cells": [
  {
   "cell_type": "code",
   "execution_count": 1,
   "metadata": {},
   "outputs": [
    {
     "name": "stdout",
     "output_type": "stream",
     "text": [
      "env: CURL_CA_BUNDLE=/etc/ssl/certs/ca-certificates.crt\n"
     ]
    }
   ],
   "source": [
    "%env CURL_CA_BUNDLE=/etc/ssl/certs/ca-certificates.crt"
   ]
  },
  {
   "cell_type": "code",
   "execution_count": 2,
   "metadata": {},
   "outputs": [
    {
     "name": "stdout",
     "output_type": "stream",
     "text": [
      "gdalinfo failed - unable to open '/vsis3_streaming/dev-et-data/compressed/NDVI_filled/2001/2001001.250_m_NDVI.tif'.\r\n"
     ]
    }
   ],
   "source": [
    "! gdalinfo --config AWS_REQUEST_PAYER requester /vsis3_streaming/dev-et-data/compressed/NDVI_filled/2001/2001001.250_m_NDVI.tif"
   ]
  },
  {
   "cell_type": "code",
   "execution_count": 3,
   "metadata": {},
   "outputs": [
    {
     "name": "stdout",
     "output_type": "stream",
     "text": [
      "gdalinfo failed - unable to open '/vsis3/dev-et-data/compressed/NDVI_filled/2001/2001001.250_m_NDVI.tif'.\r\n"
     ]
    }
   ],
   "source": [
    "! gdalinfo --config AWS_REQUEST_PAYER requester /vsis3/dev-et-data/compressed/NDVI_filled/2001/2001001.250_m_NDVI.tif"
   ]
  },
  {
   "cell_type": "code",
   "execution_count": 4,
   "metadata": {},
   "outputs": [
    {
     "name": "stdout",
     "output_type": "stream",
     "text": [
      "ls: cannot access '/var/logs': No such file or directory\r\n"
     ]
    }
   ],
   "source": [
    "! ls /var/logs"
   ]
  },
  {
   "cell_type": "code",
   "execution_count": 5,
   "metadata": {},
   "outputs": [
    {
     "name": "stdout",
     "output_type": "stream",
     "text": [
      "bin   dev  home  lib64\tmnt  proc  run\t srv  tmp  var\r\n",
      "boot  etc  lib\t media\topt  root  sbin  sys  usr\r\n"
     ]
    }
   ],
   "source": [
    "! ls /"
   ]
  },
  {
   "cell_type": "code",
   "execution_count": 10,
   "metadata": {},
   "outputs": [
    {
     "name": "stdout",
     "output_type": "stream",
     "text": [
      "download: s3://dev-et-data/compressed/NDVI_filled/2001/2001001.250_m_NDVI.tif to ./2001001.250_m_NDVI.tif\n"
     ]
    }
   ],
   "source": [
    "! aws s3 cp --request-payer=requester s3://dev-et-data/compressed/NDVI_filled/2001/2001001.250_m_NDVI.tif ."
   ]
  },
  {
   "cell_type": "code",
   "execution_count": 11,
   "metadata": {},
   "outputs": [
    {
     "name": "stdout",
     "output_type": "stream",
     "text": [
      "Driver: GTiff/GeoTIFF\n",
      "Files: ./2001001.250_m_NDVI.tif\n",
      "Size is 49667, 14416\n",
      "Coordinate System is:\n",
      "GEOGCRS[\"WGS 84\",\n",
      "    DATUM[\"World Geodetic System 1984\",\n",
      "        ELLIPSOID[\"WGS 84\",6378137,298.257223563,\n",
      "            LENGTHUNIT[\"metre\",1]]],\n",
      "    PRIMEM[\"Greenwich\",0,\n",
      "        ANGLEUNIT[\"degree\",0.0174532925199433]],\n",
      "    CS[ellipsoidal,2],\n",
      "        AXIS[\"geodetic latitude (Lat)\",north,\n",
      "            ORDER[1],\n",
      "            ANGLEUNIT[\"degree\",0.0174532925199433]],\n",
      "        AXIS[\"geodetic longitude (Lon)\",east,\n",
      "            ORDER[2],\n",
      "            ANGLEUNIT[\"degree\",0.0174532925199433]],\n",
      "    ID[\"EPSG\",4326]]\n",
      "Data axis to CRS axis mapping: 2,1\n",
      "Origin = (-155.572382657999981,49.999999996000085)\n",
      "Pixel Size = (0.002081004500000,-0.002081004500000)\n",
      "Metadata:\n",
      "  AREA_OR_POINT=Area\n",
      "  DataType=Generic\n",
      "  OVR_RESAMPLING_ALG=NEAREST\n",
      "Image Structure Metadata:\n",
      "  COMPRESSION=DEFLATE\n",
      "  INTERLEAVE=BAND\n",
      "Corner Coordinates:\n",
      "Upper Left  (-155.5723827,  50.0000000) (155d34'20.58\"W, 50d 0' 0.00\"N)\n",
      "Lower Left  (-155.5723827,  20.0002391) (155d34'20.58\"W, 20d 0' 0.86\"N)\n",
      "Upper Right ( -52.2151322,  50.0000000) ( 52d12'54.48\"W, 50d 0' 0.00\"N)\n",
      "Lower Right ( -52.2151322,  20.0002391) ( 52d12'54.48\"W, 20d 0' 0.86\"N)\n",
      "Center      (-103.8937574,  35.0001196) (103d53'37.53\"W, 35d 0' 0.43\"N)\n",
      "Band 1 Block=512x512 Type=Float32, ColorInterp=Gray\n",
      "  NoData Value=-3.4028234663852886e+38\n",
      "  Overviews: 24834x7208, 12417x3604, 6209x1802, 3105x901, 1553x451\n"
     ]
    }
   ],
   "source": [
    "! gdalinfo ./2001001.250_m_NDVI.tif"
   ]
  },
  {
   "cell_type": "code",
   "execution_count": 12,
   "metadata": {},
   "outputs": [
    {
     "name": "stdout",
     "output_type": "stream",
     "text": [
      "GDAL 3.0.4, released 2020/01/28\r\n"
     ]
    }
   ],
   "source": [
    "! gdalinfo --version"
   ]
  },
  {
   "cell_type": "code",
   "execution_count": 13,
   "metadata": {},
   "outputs": [
    {
     "name": "stdout",
     "output_type": "stream",
     "text": [
      "Usage: gdalinfo [--help-general] [-json] [-mm] [-stats] [-hist] [-nogcp] [-nomd]\r\n",
      "                [-norat] [-noct] [-nofl] [-checksum] [-proj4]\r\n",
      "                [-listmdd] [-mdd domain|`all`] [-wkt_format WKT1|WKT2|...]*\r\n",
      "                [-sd subdataset] [-oo NAME=VALUE]* datasetname\r\n"
     ]
    }
   ],
   "source": [
    "! gdalinfo --help"
   ]
  },
  {
   "cell_type": "code",
   "execution_count": 20,
   "metadata": {},
   "outputs": [
    {
     "name": "stdout",
     "output_type": "stream",
     "text": [
      "gdalinfo failed - unable to open '/vsis3/dev-et-data/compressed/NDVI_filled/2001/2001001.250_m_NDVI.tif'.\r\n"
     ]
    }
   ],
   "source": [
    "! gdalinfo --config AWS_REQUEST_PAYER requester /vsis3/dev-et-data/compressed/NDVI_filled/2001/2001001.250_m_NDVI.tif"
   ]
  },
  {
   "cell_type": "code",
   "execution_count": 18,
   "metadata": {},
   "outputs": [
    {
     "name": "stdout",
     "output_type": "stream",
     "text": [
      "                           PRE 01drop/\r\n",
      "                           PRE NDVI_filled/\r\n",
      "                           PRE compressed/\r\n",
      "                           PRE etasw_2014/\r\n",
      "                           PRE etasw_2015/\r\n",
      "                           PRE greg_outputs/\r\n",
      "                           PRE level-1/\r\n",
      "                           PRE steff_2014/\r\n",
      "                           PRE steff_2015/\r\n",
      "                           PRE v1DRB_outputs/\r\n",
      "2020-05-05 23:59:59         62 Readme-bucket.md\r\n",
      "2020-05-05 23:50:00         13 tony.txt\r\n"
     ]
    }
   ],
   "source": [
    "! aws s3 ls --request-payer=requester dev-et-data/"
   ]
  },
  {
   "cell_type": "code",
   "execution_count": 19,
   "metadata": {},
   "outputs": [
    {
     "name": "stdout",
     "output_type": "stream",
     "text": [
      "                           PRE 01drop/\r\n",
      "                           PRE NDVI_filled/\r\n",
      "                           PRE compressed/\r\n",
      "                           PRE etasw_2014/\r\n",
      "                           PRE etasw_2015/\r\n",
      "                           PRE greg_outputs/\r\n",
      "                           PRE level-1/\r\n",
      "                           PRE steff_2014/\r\n",
      "                           PRE steff_2015/\r\n",
      "                           PRE v1DRB_outputs/\r\n",
      "2020-05-05 23:59:59         62 Readme-bucket.md\r\n",
      "2020-05-05 23:50:00         13 tony.txt\r\n"
     ]
    }
   ],
   "source": [
    "! aws s3 ls dev-et-data/"
   ]
  },
  {
   "cell_type": "code",
   "execution_count": 22,
   "metadata": {},
   "outputs": [
    {
     "name": "stdout",
     "output_type": "stream",
     "text": [
      "gdalinfo failed - unable to open '/vsis3/dev-et-data/compressed/NDVI_filled/2001/2001001.250_m_NDVI.tif'.\r\n"
     ]
    }
   ],
   "source": [
    "! gdalinfo /vsis3/dev-et-data/compressed/NDVI_filled/2001/2001001.250_m_NDVI.tif"
   ]
  },
  {
   "cell_type": "code",
   "execution_count": 23,
   "metadata": {},
   "outputs": [
    {
     "name": "stdout",
     "output_type": "stream",
     "text": [
      "Traceback (most recent call last):\n",
      "  File \"rasterio/_base.pyx\", line 216, in rasterio._base.DatasetBase.__init__\n",
      "  File \"rasterio/_shim.pyx\", line 78, in rasterio._shim.open_dataset\n",
      "  File \"rasterio/_err.pyx\", line 205, in rasterio._err.exc_wrap_pointer\n",
      "rasterio._err.CPLE_AppDefinedError: Connection timed out after 1001 milliseconds\n",
      "\n",
      "During handling of the above exception, another exception occurred:\n",
      "\n",
      "Traceback (most recent call last):\n",
      "  File \"/srv/conda/envs/pangeo/bin/rio\", line 11, in <module>\n",
      "    sys.exit(main_group())\n",
      "  File \"/srv/conda/envs/pangeo/lib/python3.7/site-packages/click/core.py\", line 829, in __call__\n",
      "    return self.main(*args, **kwargs)\n",
      "  File \"/srv/conda/envs/pangeo/lib/python3.7/site-packages/click/core.py\", line 782, in main\n",
      "    rv = self.invoke(ctx)\n",
      "  File \"/srv/conda/envs/pangeo/lib/python3.7/site-packages/click/core.py\", line 1259, in invoke\n",
      "    return _process_result(sub_ctx.command.invoke(sub_ctx))\n",
      "  File \"/srv/conda/envs/pangeo/lib/python3.7/site-packages/click/core.py\", line 1066, in invoke\n",
      "    return ctx.invoke(self.callback, **ctx.params)\n",
      "  File \"/srv/conda/envs/pangeo/lib/python3.7/site-packages/click/core.py\", line 610, in invoke\n",
      "    return callback(*args, **kwargs)\n",
      "  File \"/srv/conda/envs/pangeo/lib/python3.7/site-packages/click/decorators.py\", line 21, in new_func\n",
      "    return f(get_current_context(), *args, **kwargs)\n",
      "  File \"/srv/conda/envs/pangeo/lib/python3.7/site-packages/rasterio/rio/info.py\", line 66, in info\n",
      "    with ctx.obj['env'], rasterio.open(input) as src:\n",
      "  File \"/srv/conda/envs/pangeo/lib/python3.7/site-packages/rasterio/env.py\", line 434, in wrapper\n",
      "    return f(*args, **kwds)\n",
      "  File \"/srv/conda/envs/pangeo/lib/python3.7/site-packages/rasterio/__init__.py\", line 219, in open\n",
      "    s = DatasetReader(path, driver=driver, sharing=sharing, **kwargs)\n",
      "  File \"rasterio/_base.pyx\", line 218, in rasterio._base.DatasetBase.__init__\n",
      "rasterio.errors.RasterioIOError: Connection timed out after 1001 milliseconds\n"
     ]
    }
   ],
   "source": [
    "! rio info /vsis3/dev-et-data/compressed/NDVI_filled/2001/2001001.250_m_NDVI.tif"
   ]
  },
  {
   "cell_type": "code",
   "execution_count": 25,
   "metadata": {},
   "outputs": [
    {
     "name": "stdout",
     "output_type": "stream",
     "text": [
      "Traceback (most recent call last):\r\n",
      "  File \"rasterio/_base.pyx\", line 216, in rasterio._base.DatasetBase.__init__\r\n",
      "  File \"rasterio/_shim.pyx\", line 78, in rasterio._shim.open_dataset\r\n",
      "  File \"rasterio/_err.pyx\", line 205, in rasterio._err.exc_wrap_pointer\r\n",
      "rasterio._err.CPLE_AppDefinedError: Connection timed out after 1001 milliseconds\r\n",
      "\r\n",
      "During handling of the above exception, another exception occurred:\r\n",
      "\r\n",
      "Traceback (most recent call last):\r\n",
      "  File \"/srv/conda/envs/pangeo/bin/rio\", line 11, in <module>\r\n",
      "    sys.exit(main_group())\r\n",
      "  File \"/srv/conda/envs/pangeo/lib/python3.7/site-packages/click/core.py\", line 829, in __call__\r\n",
      "    return self.main(*args, **kwargs)\r\n",
      "  File \"/srv/conda/envs/pangeo/lib/python3.7/site-packages/click/core.py\", line 782, in main\r\n",
      "    rv = self.invoke(ctx)\r\n",
      "  File \"/srv/conda/envs/pangeo/lib/python3.7/site-packages/click/core.py\", line 1259, in invoke\r\n",
      "    return _process_result(sub_ctx.command.invoke(sub_ctx))\r\n",
      "  File \"/srv/conda/envs/pangeo/lib/python3.7/site-packages/click/core.py\", line 1066, in invoke\r\n",
      "    return ctx.invoke(self.callback, **ctx.params)\r\n",
      "  File \"/srv/conda/envs/pangeo/lib/python3.7/site-packages/click/core.py\", line 610, in invoke\r\n",
      "    return callback(*args, **kwargs)\r\n",
      "  File \"/srv/conda/envs/pangeo/lib/python3.7/site-packages/click/decorators.py\", line 21, in new_func\r\n",
      "    return f(get_current_context(), *args, **kwargs)\r\n",
      "  File \"/srv/conda/envs/pangeo/lib/python3.7/site-packages/rasterio/rio/info.py\", line 66, in info\r\n",
      "    with ctx.obj['env'], rasterio.open(input) as src:\r\n",
      "  File \"/srv/conda/envs/pangeo/lib/python3.7/site-packages/rasterio/env.py\", line 434, in wrapper\r\n",
      "    return f(*args, **kwds)\r\n",
      "  File \"/srv/conda/envs/pangeo/lib/python3.7/site-packages/rasterio/__init__.py\", line 219, in open\r\n",
      "    s = DatasetReader(path, driver=driver, sharing=sharing, **kwargs)\r\n",
      "  File \"rasterio/_base.pyx\", line 218, in rasterio._base.DatasetBase.__init__\r\n",
      "rasterio.errors.RasterioIOError: Connection timed out after 1001 milliseconds\r\n"
     ]
    }
   ],
   "source": [
    "! (AWS_REQUEST_PAYER=requester; rio info /vsis3/dev-et-data/compressed/NDVI_filled/2001/2001001.250_m_NDVI.tif)"
   ]
  },
  {
   "cell_type": "code",
   "execution_count": 26,
   "metadata": {},
   "outputs": [
    {
     "name": "stdout",
     "output_type": "stream",
     "text": [
      "env: AWS_REQUEST_PAYER=requester\n"
     ]
    }
   ],
   "source": [
    "%env AWS_REQUEST_PAYER=requester"
   ]
  },
  {
   "cell_type": "code",
   "execution_count": 27,
   "metadata": {},
   "outputs": [
    {
     "name": "stdout",
     "output_type": "stream",
     "text": [
      "Traceback (most recent call last):\n",
      "  File \"rasterio/_base.pyx\", line 216, in rasterio._base.DatasetBase.__init__\n",
      "  File \"rasterio/_shim.pyx\", line 78, in rasterio._shim.open_dataset\n",
      "  File \"rasterio/_err.pyx\", line 205, in rasterio._err.exc_wrap_pointer\n",
      "rasterio._err.CPLE_AppDefinedError: Connection timed out after 1001 milliseconds\n",
      "\n",
      "During handling of the above exception, another exception occurred:\n",
      "\n",
      "Traceback (most recent call last):\n",
      "  File \"/srv/conda/envs/pangeo/bin/rio\", line 11, in <module>\n",
      "    sys.exit(main_group())\n",
      "  File \"/srv/conda/envs/pangeo/lib/python3.7/site-packages/click/core.py\", line 829, in __call__\n",
      "    return self.main(*args, **kwargs)\n",
      "  File \"/srv/conda/envs/pangeo/lib/python3.7/site-packages/click/core.py\", line 782, in main\n",
      "    rv = self.invoke(ctx)\n",
      "  File \"/srv/conda/envs/pangeo/lib/python3.7/site-packages/click/core.py\", line 1259, in invoke\n",
      "    return _process_result(sub_ctx.command.invoke(sub_ctx))\n",
      "  File \"/srv/conda/envs/pangeo/lib/python3.7/site-packages/click/core.py\", line 1066, in invoke\n",
      "    return ctx.invoke(self.callback, **ctx.params)\n",
      "  File \"/srv/conda/envs/pangeo/lib/python3.7/site-packages/click/core.py\", line 610, in invoke\n",
      "    return callback(*args, **kwargs)\n",
      "  File \"/srv/conda/envs/pangeo/lib/python3.7/site-packages/click/decorators.py\", line 21, in new_func\n",
      "    return f(get_current_context(), *args, **kwargs)\n",
      "  File \"/srv/conda/envs/pangeo/lib/python3.7/site-packages/rasterio/rio/info.py\", line 66, in info\n",
      "    with ctx.obj['env'], rasterio.open(input) as src:\n",
      "  File \"/srv/conda/envs/pangeo/lib/python3.7/site-packages/rasterio/env.py\", line 434, in wrapper\n",
      "    return f(*args, **kwds)\n",
      "  File \"/srv/conda/envs/pangeo/lib/python3.7/site-packages/rasterio/__init__.py\", line 219, in open\n",
      "    s = DatasetReader(path, driver=driver, sharing=sharing, **kwargs)\n",
      "  File \"rasterio/_base.pyx\", line 218, in rasterio._base.DatasetBase.__init__\n",
      "rasterio.errors.RasterioIOError: Connection timed out after 1001 milliseconds\n"
     ]
    }
   ],
   "source": [
    "! rio info /vsis3/dev-et-data/compressed/NDVI_filled/2001/2001001.250_m_NDVI.tif"
   ]
  },
  {
   "cell_type": "code",
   "execution_count": 28,
   "metadata": {},
   "outputs": [
    {
     "name": "stdout",
     "output_type": "stream",
     "text": [
      "gdalinfo failed - unable to open '/vsis3/dev-et-data/compressed/NDVI_filled/2001/2001001.250_m_NDVI.tif'.\r\n"
     ]
    }
   ],
   "source": [
    "! gdalinfo /vsis3/dev-et-data/compressed/NDVI_filled/2001/2001001.250_m_NDVI.tif"
   ]
  },
  {
   "cell_type": "code",
   "execution_count": 29,
   "metadata": {},
   "outputs": [
    {
     "name": "stdout",
     "output_type": "stream",
     "text": [
      "ERROR 4: s3://dev-et-data/compressed/NDVI_filled/2001/2001001.250_m_NDVI.tif: No such file or directory\r\n",
      "gdalinfo failed - unable to open 's3://dev-et-data/compressed/NDVI_filled/2001/2001001.250_m_NDVI.tif'.\r\n"
     ]
    }
   ],
   "source": [
    "! gdalinfo s3://dev-et-data/compressed/NDVI_filled/2001/2001001.250_m_NDVI.tif"
   ]
  },
  {
   "cell_type": "code",
   "execution_count": 30,
   "metadata": {},
   "outputs": [
    {
     "name": "stdout",
     "output_type": "stream",
     "text": [
      "--2020-05-09 17:45:17--  https://dev-et-data.s3.us-west-2.amazonaws.com/tony.txt\n",
      "Resolving dev-et-data.s3.us-west-2.amazonaws.com (dev-et-data.s3.us-west-2.amazonaws.com)... 52.218.236.209\n",
      "Connecting to dev-et-data.s3.us-west-2.amazonaws.com (dev-et-data.s3.us-west-2.amazonaws.com)|52.218.236.209|:443... connected.\n",
      "HTTP request sent, awaiting response... 403 Forbidden\n",
      "2020-05-09 17:45:17 ERROR 403: Forbidden.\n",
      "\n"
     ]
    }
   ],
   "source": [
    "! wget https://dev-et-data.s3.us-west-2.amazonaws.com/tony.txt"
   ]
  },
  {
   "cell_type": "code",
   "execution_count": null,
   "metadata": {},
   "outputs": [],
   "source": []
  }
 ],
 "metadata": {
  "kernelspec": {
   "display_name": "Python 3",
   "language": "python",
   "name": "python3"
  },
  "language_info": {
   "codemirror_mode": {
    "name": "ipython",
    "version": 3
   },
   "file_extension": ".py",
   "mimetype": "text/x-python",
   "name": "python",
   "nbconvert_exporter": "python",
   "pygments_lexer": "ipython3",
   "version": "3.7.6"
  }
 },
 "nbformat": 4,
 "nbformat_minor": 4
}
