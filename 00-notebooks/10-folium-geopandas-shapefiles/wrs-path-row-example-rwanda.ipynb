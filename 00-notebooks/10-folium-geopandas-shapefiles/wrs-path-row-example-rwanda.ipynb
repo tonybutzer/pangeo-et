{
 "cells": [
  {
   "cell_type": "code",
   "execution_count": 1,
   "metadata": {},
   "outputs": [],
   "source": [
    "mkdir -p ./shape"
   ]
  },
  {
   "cell_type": "code",
   "execution_count": 2,
   "metadata": {},
   "outputs": [
    {
     "name": "stdout",
     "output_type": "stream",
     "text": [
      "\u001b[0m\u001b[01;34mshape\u001b[0m/  wrs-path-row-example-rwanda.ipynb\n"
     ]
    }
   ],
   "source": [
    "ls"
   ]
  },
  {
   "cell_type": "code",
   "execution_count": 3,
   "metadata": {},
   "outputs": [
    {
     "name": "stdout",
     "output_type": "stream",
     "text": [
      "shape  wrs-path-row-example-rwanda.ipynb\n"
     ]
    }
   ],
   "source": [
    "!ls"
   ]
  },
  {
   "cell_type": "code",
   "execution_count": 4,
   "metadata": {},
   "outputs": [
    {
     "name": "stdout",
     "output_type": "stream",
     "text": [
      "--2020-07-11 07:15:25--  https://landsat.usgs.gov/sites/default/files/documents/WRS2_descending.zip\n",
      "Resolving landsat.usgs.gov (landsat.usgs.gov)... 152.61.136.10, 2001:49c8:4000:122c::10\n",
      "Connecting to landsat.usgs.gov (landsat.usgs.gov)|152.61.136.10|:443... connected.\n",
      "HTTP request sent, awaiting response... 200 OK\n",
      "Length: 5268095 (5.0M) [application/zip]\n",
      "Saving to: ‘.//shape/WRS2_descending.zip’\n",
      "\n",
      ".//shape/WRS2_desce 100%[===================>]   5.02M  4.23MB/s    in 1.2s    \n",
      "\n",
      "2020-07-11 07:15:26 (4.23 MB/s) - ‘.//shape/WRS2_descending.zip’ saved [5268095/5268095]\n",
      "\n"
     ]
    }
   ],
   "source": [
    "#! wget https://landsat.usgs.gov/sites/default/files/documents/WRS2_descending.zip -O .//shape/WRS2_descending.zip"
   ]
  },
  {
   "cell_type": "code",
   "execution_count": 5,
   "metadata": {},
   "outputs": [
    {
     "name": "stdout",
     "output_type": "stream",
     "text": [
      "Collecting package metadata (current_repodata.json): done\n",
      "Solving environment: done\n",
      "\n",
      "## Package Plan ##\n",
      "\n",
      "  environment location: /srv/conda/envs/pangeo\n",
      "\n",
      "  added / updated specs:\n",
      "    - unzip\n",
      "\n",
      "\n",
      "The following packages will be downloaded:\n",
      "\n",
      "    package                    |            build\n",
      "    ---------------------------|-----------------\n",
      "    ca-certificates-2020.6.20  |       hecda079_0         145 KB  conda-forge\n",
      "    certifi-2020.6.20          |   py37hc8dfbb8_0         151 KB  conda-forge\n",
      "    unzip-6.0                  |       h516909a_1         173 KB  conda-forge\n",
      "    ------------------------------------------------------------\n",
      "                                           Total:         470 KB\n",
      "\n",
      "The following NEW packages will be INSTALLED:\n",
      "\n",
      "  unzip              conda-forge/linux-64::unzip-6.0-h516909a_1\n",
      "\n",
      "The following packages will be UPDATED:\n",
      "\n",
      "  ca-certificates                     2020.4.5.1-hecc5488_0 --> 2020.6.20-hecda079_0\n",
      "  certifi                         2020.4.5.1-py37hc8dfbb8_0 --> 2020.6.20-py37hc8dfbb8_0\n",
      "\n",
      "\n",
      "\n",
      "Downloading and Extracting Packages\n",
      "certifi-2020.6.20    | 151 KB    | ##################################### | 100% \n",
      "ca-certificates-2020 | 145 KB    | ##################################### | 100% \n",
      "unzip-6.0            | 173 KB    | ##################################### | 100% \n",
      "Preparing transaction: done\n",
      "Verifying transaction: done\n",
      "Executing transaction: done\n"
     ]
    }
   ],
   "source": [
    "#!unzip ./shape/WRS2_descending.zip\n",
    "#! conda install -y unzip"
   ]
  },
  {
   "cell_type": "code",
   "execution_count": 6,
   "metadata": {},
   "outputs": [
    {
     "name": "stdout",
     "output_type": "stream",
     "text": [
      "Archive:  WRS2_descending.zip\n",
      "replace WRS2_descending.cpg? [y]es, [n]o, [A]ll, [N]one, [r]ename: ^C\n"
     ]
    }
   ],
   "source": [
    "! (cd shape; unzip *.zip)"
   ]
  },
  {
   "cell_type": "code",
   "execution_count": 7,
   "metadata": {},
   "outputs": [],
   "source": [
    "! echo .zip > .gitignore\n",
    "! echo shape >> .gitginore"
   ]
  },
  {
   "cell_type": "code",
   "execution_count": 8,
   "metadata": {},
   "outputs": [],
   "source": [
    "%matplotlib inline\n",
    "\n",
    "import pandas as pd\n",
    "import geopandas\n",
    "\n",
    "pd.options.display.max_rows = 10"
   ]
  },
  {
   "cell_type": "code",
   "execution_count": 9,
   "metadata": {},
   "outputs": [
    {
     "name": "stdout",
     "output_type": "stream",
     "text": [
      "WRS2_descending.cpg  WRS2_descending.sbn  WRS2_descending.shx\n",
      "WRS2_descending.dbf  WRS2_descending.sbx  WRS2_descending.xml\n",
      "WRS2_descending.prj  WRS2_descending.shp  WRS2_descending.zip\n",
      "/home/jovyan/opt/pangeo-et/00-notebooks/10-folium-geopandas-shapefiles\n"
     ]
    }
   ],
   "source": [
    "! ls ./shape ; pwd"
   ]
  },
  {
   "cell_type": "code",
   "execution_count": 10,
   "metadata": {},
   "outputs": [],
   "source": [
    "wrs_things = geopandas.read_file(\"shape/WRS2_descending.shp\")"
   ]
  },
  {
   "cell_type": "code",
   "execution_count": 11,
   "metadata": {},
   "outputs": [
    {
     "data": {
      "text/html": [
       "<div>\n",
       "<style scoped>\n",
       "    .dataframe tbody tr th:only-of-type {\n",
       "        vertical-align: middle;\n",
       "    }\n",
       "\n",
       "    .dataframe tbody tr th {\n",
       "        vertical-align: top;\n",
       "    }\n",
       "\n",
       "    .dataframe thead th {\n",
       "        text-align: right;\n",
       "    }\n",
       "</style>\n",
       "<table border=\"1\" class=\"dataframe\">\n",
       "  <thead>\n",
       "    <tr style=\"text-align: right;\">\n",
       "      <th></th>\n",
       "      <th>AREA</th>\n",
       "      <th>PERIMETER</th>\n",
       "      <th>PR_</th>\n",
       "      <th>PR_ID</th>\n",
       "      <th>RINGS_OK</th>\n",
       "      <th>RINGS_NOK</th>\n",
       "      <th>PATH</th>\n",
       "      <th>ROW</th>\n",
       "      <th>MODE</th>\n",
       "      <th>SEQUENCE</th>\n",
       "      <th>WRSPR</th>\n",
       "      <th>PR</th>\n",
       "      <th>ACQDayL7</th>\n",
       "      <th>ACQDayL8</th>\n",
       "      <th>geometry</th>\n",
       "    </tr>\n",
       "  </thead>\n",
       "  <tbody>\n",
       "    <tr>\n",
       "      <th>0</th>\n",
       "      <td>15.74326</td>\n",
       "      <td>26.98611</td>\n",
       "      <td>1.0</td>\n",
       "      <td>1.0</td>\n",
       "      <td>1</td>\n",
       "      <td>0</td>\n",
       "      <td>13</td>\n",
       "      <td>1</td>\n",
       "      <td>D</td>\n",
       "      <td>2233</td>\n",
       "      <td>013001</td>\n",
       "      <td>013001</td>\n",
       "      <td>1</td>\n",
       "      <td>9</td>\n",
       "      <td>POLYGON ((-10.80341 80.98880, -8.97407 80.3420...</td>\n",
       "    </tr>\n",
       "    <tr>\n",
       "      <th>1</th>\n",
       "      <td>14.55366</td>\n",
       "      <td>25.84254</td>\n",
       "      <td>2.0</td>\n",
       "      <td>2.0</td>\n",
       "      <td>1</td>\n",
       "      <td>0</td>\n",
       "      <td>13</td>\n",
       "      <td>2</td>\n",
       "      <td>D</td>\n",
       "      <td>2234</td>\n",
       "      <td>013002</td>\n",
       "      <td>013002</td>\n",
       "      <td>1</td>\n",
       "      <td>9</td>\n",
       "      <td>POLYGON ((-29.24250 80.18681, -29.29593 80.198...</td>\n",
       "    </tr>\n",
       "    <tr>\n",
       "      <th>2</th>\n",
       "      <td>13.37247</td>\n",
       "      <td>24.20303</td>\n",
       "      <td>3.0</td>\n",
       "      <td>3.0</td>\n",
       "      <td>1</td>\n",
       "      <td>0</td>\n",
       "      <td>13</td>\n",
       "      <td>3</td>\n",
       "      <td>D</td>\n",
       "      <td>2235</td>\n",
       "      <td>013003</td>\n",
       "      <td>013003</td>\n",
       "      <td>1</td>\n",
       "      <td>9</td>\n",
       "      <td>POLYGON ((-24.04206 79.12261, -23.78294 79.063...</td>\n",
       "    </tr>\n",
       "    <tr>\n",
       "      <th>3</th>\n",
       "      <td>12.26691</td>\n",
       "      <td>22.40265</td>\n",
       "      <td>4.0</td>\n",
       "      <td>4.0</td>\n",
       "      <td>1</td>\n",
       "      <td>0</td>\n",
       "      <td>13</td>\n",
       "      <td>4</td>\n",
       "      <td>D</td>\n",
       "      <td>2236</td>\n",
       "      <td>013004</td>\n",
       "      <td>013004</td>\n",
       "      <td>1</td>\n",
       "      <td>9</td>\n",
       "      <td>POLYGON ((-36.66813 77.46094, -40.05219 78.098...</td>\n",
       "    </tr>\n",
       "    <tr>\n",
       "      <th>4</th>\n",
       "      <td>11.26511</td>\n",
       "      <td>20.64284</td>\n",
       "      <td>5.0</td>\n",
       "      <td>5.0</td>\n",
       "      <td>1</td>\n",
       "      <td>0</td>\n",
       "      <td>13</td>\n",
       "      <td>5</td>\n",
       "      <td>D</td>\n",
       "      <td>2237</td>\n",
       "      <td>013005</td>\n",
       "      <td>013005</td>\n",
       "      <td>1</td>\n",
       "      <td>9</td>\n",
       "      <td>POLYGON ((-44.11210 76.93656, -44.12470 76.938...</td>\n",
       "    </tr>\n",
       "  </tbody>\n",
       "</table>\n",
       "</div>"
      ],
      "text/plain": [
       "       AREA  PERIMETER  PR_  PR_ID  RINGS_OK  RINGS_NOK  PATH  ROW MODE  \\\n",
       "0  15.74326   26.98611  1.0    1.0         1          0    13    1    D   \n",
       "1  14.55366   25.84254  2.0    2.0         1          0    13    2    D   \n",
       "2  13.37247   24.20303  3.0    3.0         1          0    13    3    D   \n",
       "3  12.26691   22.40265  4.0    4.0         1          0    13    4    D   \n",
       "4  11.26511   20.64284  5.0    5.0         1          0    13    5    D   \n",
       "\n",
       "   SEQUENCE   WRSPR      PR ACQDayL7 ACQDayL8  \\\n",
       "0      2233  013001  013001        1        9   \n",
       "1      2234  013002  013002        1        9   \n",
       "2      2235  013003  013003        1        9   \n",
       "3      2236  013004  013004        1        9   \n",
       "4      2237  013005  013005        1        9   \n",
       "\n",
       "                                            geometry  \n",
       "0  POLYGON ((-10.80341 80.98880, -8.97407 80.3420...  \n",
       "1  POLYGON ((-29.24250 80.18681, -29.29593 80.198...  \n",
       "2  POLYGON ((-24.04206 79.12261, -23.78294 79.063...  \n",
       "3  POLYGON ((-36.66813 77.46094, -40.05219 78.098...  \n",
       "4  POLYGON ((-44.11210 76.93656, -44.12470 76.938...  "
      ]
     },
     "execution_count": 11,
     "metadata": {},
     "output_type": "execute_result"
    }
   ],
   "source": [
    "wrs_things.head()"
   ]
  },
  {
   "cell_type": "code",
   "execution_count": 12,
   "metadata": {},
   "outputs": [],
   "source": [
    "mywrs = wrs_things[['PATH', 'ROW', 'geometry']]"
   ]
  },
  {
   "cell_type": "code",
   "execution_count": 13,
   "metadata": {},
   "outputs": [
    {
     "data": {
      "text/html": [
       "<div>\n",
       "<style scoped>\n",
       "    .dataframe tbody tr th:only-of-type {\n",
       "        vertical-align: middle;\n",
       "    }\n",
       "\n",
       "    .dataframe tbody tr th {\n",
       "        vertical-align: top;\n",
       "    }\n",
       "\n",
       "    .dataframe thead th {\n",
       "        text-align: right;\n",
       "    }\n",
       "</style>\n",
       "<table border=\"1\" class=\"dataframe\">\n",
       "  <thead>\n",
       "    <tr style=\"text-align: right;\">\n",
       "      <th></th>\n",
       "      <th>PATH</th>\n",
       "      <th>ROW</th>\n",
       "      <th>geometry</th>\n",
       "    </tr>\n",
       "  </thead>\n",
       "  <tbody>\n",
       "    <tr>\n",
       "      <th>0</th>\n",
       "      <td>13</td>\n",
       "      <td>1</td>\n",
       "      <td>POLYGON ((-10.80341 80.98880, -8.97407 80.3420...</td>\n",
       "    </tr>\n",
       "    <tr>\n",
       "      <th>1</th>\n",
       "      <td>13</td>\n",
       "      <td>2</td>\n",
       "      <td>POLYGON ((-29.24250 80.18681, -29.29593 80.198...</td>\n",
       "    </tr>\n",
       "    <tr>\n",
       "      <th>2</th>\n",
       "      <td>13</td>\n",
       "      <td>3</td>\n",
       "      <td>POLYGON ((-24.04206 79.12261, -23.78294 79.063...</td>\n",
       "    </tr>\n",
       "    <tr>\n",
       "      <th>3</th>\n",
       "      <td>13</td>\n",
       "      <td>4</td>\n",
       "      <td>POLYGON ((-36.66813 77.46094, -40.05219 78.098...</td>\n",
       "    </tr>\n",
       "    <tr>\n",
       "      <th>4</th>\n",
       "      <td>13</td>\n",
       "      <td>5</td>\n",
       "      <td>POLYGON ((-44.11210 76.93656, -44.12470 76.938...</td>\n",
       "    </tr>\n",
       "  </tbody>\n",
       "</table>\n",
       "</div>"
      ],
      "text/plain": [
       "   PATH  ROW                                           geometry\n",
       "0    13    1  POLYGON ((-10.80341 80.98880, -8.97407 80.3420...\n",
       "1    13    2  POLYGON ((-29.24250 80.18681, -29.29593 80.198...\n",
       "2    13    3  POLYGON ((-24.04206 79.12261, -23.78294 79.063...\n",
       "3    13    4  POLYGON ((-36.66813 77.46094, -40.05219 78.098...\n",
       "4    13    5  POLYGON ((-44.11210 76.93656, -44.12470 76.938..."
      ]
     },
     "execution_count": 13,
     "metadata": {},
     "output_type": "execute_result"
    }
   ],
   "source": [
    "mywrs.head()"
   ]
  },
  {
   "cell_type": "code",
   "execution_count": 14,
   "metadata": {},
   "outputs": [],
   "source": [
    "wrs = mywrs[(mywrs['PATH'] >= 170) & (mywrs['PATH'] <= 173) & (mywrs['ROW'] >= 60) & (mywrs['ROW'] <= 63)]"
   ]
  },
  {
   "cell_type": "code",
   "execution_count": 15,
   "metadata": {},
   "outputs": [
    {
     "data": {
      "text/html": [
       "<div>\n",
       "<style scoped>\n",
       "    .dataframe tbody tr th:only-of-type {\n",
       "        vertical-align: middle;\n",
       "    }\n",
       "\n",
       "    .dataframe tbody tr th {\n",
       "        vertical-align: top;\n",
       "    }\n",
       "\n",
       "    .dataframe thead th {\n",
       "        text-align: right;\n",
       "    }\n",
       "</style>\n",
       "<table border=\"1\" class=\"dataframe\">\n",
       "  <thead>\n",
       "    <tr style=\"text-align: right;\">\n",
       "      <th></th>\n",
       "      <th>PATH</th>\n",
       "      <th>ROW</th>\n",
       "      <th>geometry</th>\n",
       "    </tr>\n",
       "  </thead>\n",
       "  <tbody>\n",
       "    <tr>\n",
       "      <th>3159</th>\n",
       "      <td>173</td>\n",
       "      <td>60</td>\n",
       "      <td>POLYGON ((30.61694 0.56617, 30.32597 -0.80514,...</td>\n",
       "    </tr>\n",
       "    <tr>\n",
       "      <th>3160</th>\n",
       "      <td>173</td>\n",
       "      <td>61</td>\n",
       "      <td>POLYGON ((30.00346 -2.32697, 28.35734 -2.08786...</td>\n",
       "    </tr>\n",
       "    <tr>\n",
       "      <th>3161</th>\n",
       "      <td>173</td>\n",
       "      <td>62</td>\n",
       "      <td>POLYGON ((29.69705 -3.77356, 28.04880 -3.53415...</td>\n",
       "    </tr>\n",
       "    <tr>\n",
       "      <th>3162</th>\n",
       "      <td>173</td>\n",
       "      <td>63</td>\n",
       "      <td>POLYGON ((29.39043 -5.22012, 27.73920 -4.98025...</td>\n",
       "    </tr>\n",
       "    <tr>\n",
       "      <th>6755</th>\n",
       "      <td>171</td>\n",
       "      <td>60</td>\n",
       "      <td>POLYGON ((33.40015 -0.88038, 31.75500 -0.64141...</td>\n",
       "    </tr>\n",
       "  </tbody>\n",
       "</table>\n",
       "</div>"
      ],
      "text/plain": [
       "      PATH  ROW                                           geometry\n",
       "3159   173   60  POLYGON ((30.61694 0.56617, 30.32597 -0.80514,...\n",
       "3160   173   61  POLYGON ((30.00346 -2.32697, 28.35734 -2.08786...\n",
       "3161   173   62  POLYGON ((29.69705 -3.77356, 28.04880 -3.53415...\n",
       "3162   173   63  POLYGON ((29.39043 -5.22012, 27.73920 -4.98025...\n",
       "6755   171   60  POLYGON ((33.40015 -0.88038, 31.75500 -0.64141..."
      ]
     },
     "execution_count": 15,
     "metadata": {},
     "output_type": "execute_result"
    }
   ],
   "source": [
    "wrs.head()"
   ]
  },
  {
   "cell_type": "code",
   "execution_count": 16,
   "metadata": {},
   "outputs": [
    {
     "data": {
      "text/plain": [
       "<matplotlib.axes._subplots.AxesSubplot at 0x7fd983d87e50>"
      ]
     },
     "execution_count": 16,
     "metadata": {},
     "output_type": "execute_result"
    },
    {
     "data": {
      "image/png": "[encoded data removed]",
      "text/plain": [
       "<Figure size 432x288 with 1 Axes>"
      ]
     },
     "metadata": {
      "needs_background": "light"
     },
     "output_type": "display_data"
    }
   ],
   "source": [
    "wrs.plot()"
   ]
  },
  {
   "cell_type": "code",
   "execution_count": 17,
   "metadata": {},
   "outputs": [],
   "source": [
    "import folium\n",
    "rwanda_map = folium.Map(location=[-1.0, 32.0],\n",
    "                   tiles='Mapbox Bright', zoom_start=7)"
   ]
  },
  {
   "cell_type": "code",
   "execution_count": 18,
   "metadata": {},
   "outputs": [],
   "source": [
    "p172061 = wrs[(wrs['PATH']==172) & (wrs['ROW']==61)]"
   ]
  },
  {
   "cell_type": "code",
   "execution_count": 19,
   "metadata": {},
   "outputs": [
    {
     "data": {
      "text/plain": [
       "<matplotlib.axes._subplots.AxesSubplot at 0x7fd983d86a90>"
      ]
     },
     "execution_count": 19,
     "metadata": {},
     "output_type": "execute_result"
    },
    {
     "data": {
      "image/png": "[encoded data removed]",
      "text/plain": [
       "<Figure size 432x288 with 1 Axes>"
      ]
     },
     "metadata": {
      "needs_background": "light"
     },
     "output_type": "display_data"
    }
   ],
   "source": [
    "p172061.plot()"
   ]
  },
  {
   "cell_type": "code",
   "execution_count": 20,
   "metadata": {},
   "outputs": [
    {
     "data": {
      "text/plain": [
       "19404    POLYGON ((31.54856 -2.32697, 29.90240 -2.08785...\n",
       "Name: geometry, dtype: geometry"
      ]
     },
     "execution_count": 20,
     "metadata": {},
     "output_type": "execute_result"
    }
   ],
   "source": [
    "p172061['geometry']"
   ]
  },
  {
   "cell_type": "code",
   "execution_count": 21,
   "metadata": {},
   "outputs": [
    {
     "name": "stderr",
     "output_type": "stream",
     "text": [
      "/srv/conda/envs/pangeo/lib/python3.7/site-packages/pyproj/crs/crs.py:53: FutureWarning: '+init=<authority>:<code>' syntax is deprecated. '<authority>:<code>' is the preferred initialization method. When making the change, be mindful of axis order changes: https://pyproj4.github.io/pyproj/stable/gotchas.html#axis-order-changes-in-proj-6\n",
      "  return _prepare_from_string(\" \".join(pjargs))\n"
     ]
    }
   ],
   "source": [
    "crs = {'init': 'epsg:4326'}\n",
    "poly = geopandas.GeoDataFrame(index=[0], crs=crs, geometry=p172061['geometry'])"
   ]
  },
  {
   "cell_type": "code",
   "execution_count": 22,
   "metadata": {},
   "outputs": [
    {
     "data": {
      "text/plain": [
       "'{\"type\": \"FeatureCollection\", \"features\": [{\"id\": \"19404\", \"type\": \"Feature\", \"properties\": {}, \"geometry\": {\"type\": \"Polygon\", \"coordinates\": [[[31.548555712158997, -2.3269735666678293], [29.9024, -2.08785], [29.91840452349767, -2.0125906571039205], [30.21113228359267, -0.6360736445607913], [30.226, -0.56616], [31.87106776007167, -0.8051353165776722], [31.8711, -0.80514], [31.5486, -2.32698], [31.548555712158997, -2.3269735666678293]]]}, \"bbox\": [29.9024, -2.32698, 31.8711, -0.56616]}], \"bbox\": [29.9024, -2.32698, 31.8711, -0.56616]}'"
      ]
     },
     "execution_count": 22,
     "metadata": {},
     "output_type": "execute_result"
    }
   ],
   "source": [
    "my_useful_geojson = geopandas.GeoSeries(p172061['geometry']).to_json()\n",
    "my_useful_geojson"
   ]
  },
  {
   "cell_type": "code",
   "execution_count": 23,
   "metadata": {},
   "outputs": [
    {
     "data": {
      "text/plain": [
       "<folium.features.GeoJson at 0x7fd97e0ebc10>"
      ]
     },
     "execution_count": 23,
     "metadata": {},
     "output_type": "execute_result"
    }
   ],
   "source": [
    "folium.GeoJson(my_useful_geojson).add_to(rwanda_map)"
   ]
  },
  {
   "cell_type": "code",
   "execution_count": 24,
   "metadata": {},
   "outputs": [
    {
     "data": {
      "text/html": [
       "<div style=\"width:100%;\"><div style=\"position:relative;width:100%;height:0;padding-bottom:60%;\"><iframe src=\"data:text/html;charset=utf-8;base64,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\" style=\"position:absolute;width:100%;height:100%;left:0;top:0;border:none !important;\" allowfullscreen webkitallowfullscreen mozallowfullscreen></iframe></div></div>"
      ],
      "text/plain": [
       "<folium.folium.Map at 0x7fd983da0d50>"
      ]
     },
     "execution_count": 24,
     "metadata": {},
     "output_type": "execute_result"
    }
   ],
   "source": [
    "rwanda_map"
   ]
  },
  {
   "cell_type": "code",
   "execution_count": 25,
   "metadata": {},
   "outputs": [],
   "source": [
    "import folium\n",
    "rwanda_map = folium.Map(location=[-1.0, 32.0],\n",
    "                   tiles='OpenStreetMap', zoom_start=7)"
   ]
  },
  {
   "cell_type": "code",
   "execution_count": 26,
   "metadata": {},
   "outputs": [
    {
     "data": {
      "text/html": [
       "<div style=\"width:100%;\"><div style=\"position:relative;width:100%;height:0;padding-bottom:60%;\"><iframe src=\"data:text/html;charset=utf-8;base64,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\" style=\"position:absolute;width:100%;height:100%;left:0;top:0;border:none !important;\" allowfullscreen webkitallowfullscreen mozallowfullscreen></iframe></div></div>"
      ],
      "text/plain": [
       "<folium.folium.Map at 0x7fd97df277d0>"
      ]
     },
     "execution_count": 26,
     "metadata": {},
     "output_type": "execute_result"
    }
   ],
   "source": [
    "rwanda_map"
   ]
  },
  {
   "cell_type": "code",
   "execution_count": 27,
   "metadata": {},
   "outputs": [
    {
     "data": {
      "text/plain": [
       "<folium.features.GeoJson at 0x7fd97df2a710>"
      ]
     },
     "execution_count": 27,
     "metadata": {},
     "output_type": "execute_result"
    }
   ],
   "source": [
    "folium.GeoJson(my_useful_geojson).add_to(rwanda_map)"
   ]
  },
  {
   "cell_type": "code",
   "execution_count": 28,
   "metadata": {},
   "outputs": [
    {
     "data": {
      "text/html": [
       "<div style=\"width:100%;\"><div style=\"position:relative;width:100%;height:0;padding-bottom:60%;\"><iframe src=\"data:text/html;charset=utf-8;base64,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\" style=\"position:absolute;width:100%;height:100%;left:0;top:0;border:none !important;\" allowfullscreen webkitallowfullscreen mozallowfullscreen></iframe></div></div>"
      ],
      "text/plain": [
       "<folium.folium.Map at 0x7fd97df277d0>"
      ]
     },
     "execution_count": 28,
     "metadata": {},
     "output_type": "execute_result"
    }
   ],
   "source": [
    "rwanda_map"
   ]
  },
  {
   "cell_type": "code",
   "execution_count": 29,
   "metadata": {},
   "outputs": [],
   "source": [
    "rwanda_map = folium.Map(location=[-1.0, 32.0],\n",
    "                  zoom_start=7, tiles=\" http://mt1.google.com/vt/lyrs=y&z={z}&x={x}&y={y}\", attr=\"Google\")"
   ]
  },
  {
   "cell_type": "code",
   "execution_count": 66,
   "metadata": {},
   "outputs": [
    {
     "data": {
      "text/plain": [
       "<folium.features.GeoJson at 0x7fd97dc46250>"
      ]
     },
     "execution_count": 66,
     "metadata": {},
     "output_type": "execute_result"
    }
   ],
   "source": [
    "#style_function = lambda x: {'fillColor': 'blue'} \n",
    "#folium.GeoJson(my_useful_geojson, style_function=style_function).add_to(rwanda_map)\n",
    "folium.GeoJson(my_useful_geojson).add_to(rwanda_map)"
   ]
  },
  {
   "cell_type": "code",
   "execution_count": 67,
   "metadata": {},
   "outputs": [
    {
     "data": {
      "text/html": [
       "<div style=\"width:100%;\"><div style=\"position:relative;width:100%;height:0;padding-bottom:60%;\"><iframe src=\"data:text/html;charset=utf-8;base64,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\" style=\"position:absolute;width:100%;height:100%;left:0;top:0;border:none !important;\" allowfullscreen webkitallowfullscreen mozallowfullscreen></iframe></div></div>"
      ],
      "text/plain": [
       "<folium.folium.Map at 0x7fd98447fd50>"
      ]
     },
     "execution_count": 67,
     "metadata": {},
     "output_type": "execute_result"
    }
   ],
   "source": [
    "rwanda_map"
   ]
  },
  {
   "cell_type": "code",
   "execution_count": 35,
   "metadata": {},
   "outputs": [
    {
     "name": "stdout",
     "output_type": "stream",
     "text": [
      "Help on class GeoJson in module folium.features:\n",
      "\n",
      "class GeoJson(folium.map.Layer)\n",
      " |  GeoJson(data, style_function=None, highlight_function=None, name=None, overlay=True, control=True, show=True, smooth_factor=None, tooltip=None, embed=True, popup=None)\n",
      " |  \n",
      " |  Creates a GeoJson object for plotting into a Map.\n",
      " |  \n",
      " |  Parameters\n",
      " |  ----------\n",
      " |  data: file, dict or str.\n",
      " |      The GeoJSON data you want to plot.\n",
      " |      * If file, then data will be read in the file and fully\n",
      " |      embedded in Leaflet's JavaScript.\n",
      " |      * If dict, then data will be converted to JSON and embedded\n",
      " |      in the JavaScript.\n",
      " |      * If str, then data will be passed to the JavaScript as-is.\n",
      " |  style_function: function, default None\n",
      " |      Function mapping a GeoJson Feature to a style dict.\n",
      " |  highlight_function: function, default None\n",
      " |      Function mapping a GeoJson Feature to a style dict for mouse events.\n",
      " |  name : string, default None\n",
      " |      The name of the Layer, as it will appear in LayerControls\n",
      " |  overlay : bool, default True\n",
      " |      Adds the layer as an optional overlay (True) or the base layer (False).\n",
      " |  control : bool, default True\n",
      " |      Whether the Layer will be included in LayerControls\n",
      " |  show: bool, default True\n",
      " |      Whether the layer will be shown on opening (only for overlays).\n",
      " |  smooth_factor: float, default None\n",
      " |      How much to simplify the polyline on each zoom level. More means\n",
      " |      better performance and smoother look, and less means more accurate\n",
      " |      representation. Leaflet defaults to 1.0.\n",
      " |  tooltip: GeoJsonTooltip, Tooltip or str, default None\n",
      " |      Display a text when hovering over the object. Can utilize the data,\n",
      " |      see folium.GeoJsonTooltip for info on how to do that.\n",
      " |  embed: bool, default True\n",
      " |      Whether to embed the data in the html file or not. Note that disabling\n",
      " |      embedding is only supported if you provide a file link or URL.\n",
      " |  \n",
      " |  Examples\n",
      " |  --------\n",
      " |  >>> # Providing filename that shall be embedded.\n",
      " |  >>> GeoJson('foo.json')\n",
      " |  >>> # Providing filename that shall not be embedded.\n",
      " |  >>> GeoJson('foo.json', embed=False)\n",
      " |  >>> # Providing dict.\n",
      " |  >>> GeoJson(json.load(open('foo.json')))\n",
      " |  >>> # Providing string.\n",
      " |  >>> GeoJson(open('foo.json').read())\n",
      " |  \n",
      " |  >>> # Provide a style_function that color all states green but Alabama.\n",
      " |  >>> style_function = lambda x: {'fillColor': '#0000ff' if\n",
      " |  ...                             x['properties']['name']=='Alabama' else\n",
      " |  ...                             '#00ff00'}\n",
      " |  >>> GeoJson(geojson, style_function=style_function)\n",
      " |  \n",
      " |  Method resolution order:\n",
      " |      GeoJson\n",
      " |      folium.map.Layer\n",
      " |      branca.element.MacroElement\n",
      " |      branca.element.Element\n",
      " |      builtins.object\n",
      " |  \n",
      " |  Methods defined here:\n",
      " |  \n",
      " |  __init__(self, data, style_function=None, highlight_function=None, name=None, overlay=True, control=True, show=True, smooth_factor=None, tooltip=None, embed=True, popup=None)\n",
      " |      Initialize self.  See help(type(self)) for accurate signature.\n",
      " |  \n",
      " |  convert_to_feature_collection(self)\n",
      " |      Convert data into a FeatureCollection if it is not already.\n",
      " |  \n",
      " |  find_identifier(self)\n",
      " |      Find a unique identifier for each feature, create it if needed.\n",
      " |      \n",
      " |      According to the GeoJSON specs a feature:\n",
      " |       - MAY have an 'id' field with a string or numerical value.\n",
      " |       - MUST have a 'properties' field. The content can be any json object\n",
      " |         or even null.\n",
      " |  \n",
      " |  process_data(self, data)\n",
      " |      Convert an unknown data input into a geojson dictionary.\n",
      " |  \n",
      " |  render(self, **kwargs)\n",
      " |      Renders the HTML representation of the element.\n",
      " |  \n",
      " |  ----------------------------------------------------------------------\n",
      " |  Methods inherited from branca.element.Element:\n",
      " |  \n",
      " |  add_child(self, child, name=None, index=None)\n",
      " |      Add a child.\n",
      " |  \n",
      " |  add_children(self, child, name=None, index=None)\n",
      " |      Add a child.\n",
      " |  \n",
      " |  add_to(self, parent, name=None, index=None)\n",
      " |      Add element to a parent.\n",
      " |  \n",
      " |  get_bounds(self)\n",
      " |      Computes the bounds of the object and all it's children\n",
      " |      in the form [[lat_min, lon_min], [lat_max, lon_max]].\n",
      " |  \n",
      " |  get_name(self)\n",
      " |      Returns a string representation of the object.\n",
      " |      This string has to be unique and to be a python and\n",
      " |      javascript-compatible\n",
      " |      variable name.\n",
      " |  \n",
      " |  get_root(self)\n",
      " |      Returns the root of the elements tree.\n",
      " |  \n",
      " |  save(self, outfile, close_file=True, **kwargs)\n",
      " |      Saves an Element into a file.\n",
      " |      \n",
      " |      Parameters\n",
      " |      ----------\n",
      " |      outfile : str or file object\n",
      " |          The file (or filename) where you want to output the html.\n",
      " |      close_file : bool, default True\n",
      " |          Whether the file has to be closed after write.\n",
      " |  \n",
      " |  to_dict(self, depth=-1, ordered=True, **kwargs)\n",
      " |      Returns a dict representation of the object.\n",
      " |  \n",
      " |  to_json(self, depth=-1, **kwargs)\n",
      " |      Returns a JSON representation of the object.\n",
      " |  \n",
      " |  ----------------------------------------------------------------------\n",
      " |  Data descriptors inherited from branca.element.Element:\n",
      " |  \n",
      " |  __dict__\n",
      " |      dictionary for instance variables (if defined)\n",
      " |  \n",
      " |  __weakref__\n",
      " |      list of weak references to the object (if defined)\n",
      "\n"
     ]
    }
   ],
   "source": [
    "help(folium.GeoJson)"
   ]
  },
  {
   "cell_type": "code",
   "execution_count": 70,
   "metadata": {},
   "outputs": [
    {
     "data": {
      "text/html": [
       "<div style=\"width:100%;\"><div style=\"position:relative;width:100%;height:0;padding-bottom:60%;\"><iframe src=\"data:text/html;charset=utf-8;base64,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\" style=\"position:absolute;width:100%;height:100%;left:0;top:0;border:none !important;\" allowfullscreen webkitallowfullscreen mozallowfullscreen></iframe></div></div>"
      ],
      "text/plain": [
       "<folium.folium.Map at 0x7fd97dc4ee50>"
      ]
     },
     "execution_count": 70,
     "metadata": {},
     "output_type": "execute_result"
    }
   ],
   "source": [
    "rwanda_map = folium.Map(location=[-1.0, 32.0],\n",
    "                   tiles='OpenStreetMap', zoom_start=7)\n",
    "style_function = lambda x: {'fillColor': 'red', 'color': 'green'} \n",
    "folium.GeoJson(my_useful_geojson, style_function=style_function).add_to(rwanda_map)\n",
    "\n",
    "rwanda_map"
   ]
  },
  {
   "cell_type": "code",
   "execution_count": 71,
   "metadata": {},
   "outputs": [
    {
     "name": "stdout",
     "output_type": "stream",
     "text": [
      "Help on class Map in module folium.folium:\n",
      "\n",
      "class Map(branca.element.MacroElement)\n",
      " |  Map(location=None, width='100%', height='100%', left='0%', top='0%', position='relative', tiles='OpenStreetMap', attr=None, min_zoom=0, max_zoom=18, zoom_start=10, min_lat=-90, max_lat=90, min_lon=-180, max_lon=180, max_bounds=False, crs='EPSG3857', control_scale=False, prefer_canvas=False, no_touch=False, disable_3d=False, png_enabled=False, zoom_control=True, **kwargs)\n",
      " |  \n",
      " |  Create a Map with Folium and Leaflet.js\n",
      " |  \n",
      " |  Generate a base map of given width and height with either default\n",
      " |  tilesets or a custom tileset URL. The following tilesets are built-in\n",
      " |  to Folium. Pass any of the following to the \"tiles\" keyword:\n",
      " |  \n",
      " |      - \"OpenStreetMap\"\n",
      " |      - \"Mapbox Bright\" (Limited levels of zoom for free tiles)\n",
      " |      - \"Mapbox Control Room\" (Limited levels of zoom for free tiles)\n",
      " |      - \"Stamen\" (Terrain, Toner, and Watercolor)\n",
      " |      - \"Cloudmade\" (Must pass API key)\n",
      " |      - \"Mapbox\" (Must pass API key)\n",
      " |      - \"CartoDB\" (positron and dark_matter)\n",
      " |  \n",
      " |  You can pass a custom tileset to Folium by passing a Leaflet-style\n",
      " |  URL to the tiles parameter: ``http://{s}.yourtiles.com/{z}/{x}/{y}.png``\n",
      " |  \n",
      " |  Parameters\n",
      " |  ----------\n",
      " |  location: tuple or list, default None\n",
      " |      Latitude and Longitude of Map (Northing, Easting).\n",
      " |  width: pixel int or percentage string (default: '100%')\n",
      " |      Width of the map.\n",
      " |  height: pixel int or percentage string (default: '100%')\n",
      " |      Height of the map.\n",
      " |  tiles: str, default 'OpenStreetMap'\n",
      " |      Map tileset to use. Can choose from a list of built-in tiles,\n",
      " |      pass a custom URL or pass `None` to create a map without tiles.\n",
      " |      For more advanced tile layer options, use the `TileLayer` class.\n",
      " |  min_zoom: int, default 0\n",
      " |      Minimum allowed zoom level for the tile layer that is created.\n",
      " |  max_zoom: int, default 18\n",
      " |      Maximum allowed zoom level for the tile layer that is created.\n",
      " |  zoom_start: int, default 10\n",
      " |      Initial zoom level for the map.\n",
      " |  attr: string, default None\n",
      " |      Map tile attribution; only required if passing custom tile URL.\n",
      " |  crs : str, default 'EPSG3857'\n",
      " |      Defines coordinate reference systems for projecting geographical points\n",
      " |      into pixel (screen) coordinates and back.\n",
      " |      You can use Leaflet's values :\n",
      " |      * EPSG3857 : The most common CRS for online maps, used by almost all\n",
      " |      free and commercial tile providers. Uses Spherical Mercator projection.\n",
      " |      Set in by default in Map's crs option.\n",
      " |      * EPSG4326 : A common CRS among GIS enthusiasts.\n",
      " |      Uses simple Equirectangular projection.\n",
      " |      * EPSG3395 : Rarely used by some commercial tile providers.\n",
      " |      Uses Elliptical Mercator projection.\n",
      " |      * Simple : A simple CRS that maps longitude and latitude into\n",
      " |      x and y directly. May be used for maps of flat surfaces\n",
      " |      (e.g. game maps). Note that the y axis should still be inverted\n",
      " |      (going from bottom to top).\n",
      " |  control_scale : bool, default False\n",
      " |      Whether to add a control scale on the map.\n",
      " |  prefer_canvas : bool, default False\n",
      " |      Forces Leaflet to use the Canvas back-end (if available) for\n",
      " |      vector layers instead of SVG. This can increase performance\n",
      " |      considerably in some cases (e.g. many thousands of circle\n",
      " |      markers on the map).\n",
      " |  no_touch : bool, default False\n",
      " |      Forces Leaflet to not use touch events even if it detects them.\n",
      " |  disable_3d : bool, default False\n",
      " |      Forces Leaflet to not use hardware-accelerated CSS 3D\n",
      " |      transforms for positioning (which may cause glitches in some\n",
      " |      rare environments) even if they're supported.\n",
      " |  zoom_control : bool, default True\n",
      " |      Display zoom controls on the map.\n",
      " |  **kwargs\n",
      " |      Additional keyword arguments are passed to Leaflets Map class:\n",
      " |      https://leafletjs.com/reference-1.6.0.html#map\n",
      " |  \n",
      " |  Returns\n",
      " |  -------\n",
      " |  Folium Map Object\n",
      " |  \n",
      " |  Examples\n",
      " |  --------\n",
      " |  >>> m = folium.Map(location=[45.523, -122.675],\n",
      " |  ...                        width=750, height=500)\n",
      " |  >>> m = folium.Map(location=[45.523, -122.675],\n",
      " |                             tiles='Mapbox Control Room')\n",
      " |  >>> m = folium.Map(location=(45.523, -122.675), max_zoom=20,\n",
      " |                             tiles='Cloudmade', API_key='YourKey')\n",
      " |  >>> m = folium.Map(\n",
      " |  ...    location=[45.523, -122.675],\n",
      " |  ...    zoom_start=2,\n",
      " |  ...    tiles='http://{s}.tiles.mapbox.com/v3/mapbox.control-room/{z}/{x}/{y}.png',\n",
      " |  ...    attr='Mapbox attribution'\n",
      " |  ...)\n",
      " |  \n",
      " |  Method resolution order:\n",
      " |      Map\n",
      " |      branca.element.MacroElement\n",
      " |      branca.element.Element\n",
      " |      builtins.object\n",
      " |  \n",
      " |  Methods defined here:\n",
      " |  \n",
      " |  __init__(self, location=None, width='100%', height='100%', left='0%', top='0%', position='relative', tiles='OpenStreetMap', attr=None, min_zoom=0, max_zoom=18, zoom_start=10, min_lat=-90, max_lat=90, min_lon=-180, max_lon=180, max_bounds=False, crs='EPSG3857', control_scale=False, prefer_canvas=False, no_touch=False, disable_3d=False, png_enabled=False, zoom_control=True, **kwargs)\n",
      " |      Initialize self.  See help(type(self)) for accurate signature.\n",
      " |  \n",
      " |  choropleth(self, *args, **kwargs)\n",
      " |      Call the Choropleth class with the same arguments.\n",
      " |      \n",
      " |      This method may be deleted after a year from now (Nov 2018).\n",
      " |  \n",
      " |  fit_bounds(self, bounds, padding_top_left=None, padding_bottom_right=None, padding=None, max_zoom=None)\n",
      " |      Fit the map to contain a bounding box with the\n",
      " |      maximum zoom level possible.\n",
      " |      \n",
      " |      Parameters\n",
      " |      ----------\n",
      " |      bounds: list of (latitude, longitude) points\n",
      " |          Bounding box specified as two points [southwest, northeast]\n",
      " |      padding_top_left: (x, y) point, default None\n",
      " |          Padding in the top left corner. Useful if some elements in\n",
      " |          the corner, such as controls, might obscure objects you're zooming\n",
      " |          to.\n",
      " |      padding_bottom_right: (x, y) point, default None\n",
      " |          Padding in the bottom right corner.\n",
      " |      padding: (x, y) point, default None\n",
      " |          Equivalent to setting both top left and bottom right padding to\n",
      " |          the same value.\n",
      " |      max_zoom: int, default None\n",
      " |          Maximum zoom to be used.\n",
      " |      \n",
      " |      Examples\n",
      " |      --------\n",
      " |      >>> m.fit_bounds([[52.193636, -2.221575], [52.636878, -1.139759]])\n",
      " |  \n",
      " |  keep_in_front(self, *args)\n",
      " |      Pass one or multiple layers that must stay in front.\n",
      " |      \n",
      " |      The ordering matters, the last one is put on top.\n",
      " |      \n",
      " |      Parameters\n",
      " |      ----------\n",
      " |      *args :\n",
      " |          Variable length argument list. Any folium object that counts as an\n",
      " |          overlay. For example FeatureGroup or TileLayer.\n",
      " |          Does not work with markers, for those use z_index_offset.\n",
      " |  \n",
      " |  render(self, **kwargs)\n",
      " |      Renders the HTML representation of the element.\n",
      " |  \n",
      " |  ----------------------------------------------------------------------\n",
      " |  Methods inherited from branca.element.Element:\n",
      " |  \n",
      " |  add_child(self, child, name=None, index=None)\n",
      " |      Add a child.\n",
      " |  \n",
      " |  add_children(self, child, name=None, index=None)\n",
      " |      Add a child.\n",
      " |  \n",
      " |  add_to(self, parent, name=None, index=None)\n",
      " |      Add element to a parent.\n",
      " |  \n",
      " |  get_bounds(self)\n",
      " |      Computes the bounds of the object and all it's children\n",
      " |      in the form [[lat_min, lon_min], [lat_max, lon_max]].\n",
      " |  \n",
      " |  get_name(self)\n",
      " |      Returns a string representation of the object.\n",
      " |      This string has to be unique and to be a python and\n",
      " |      javascript-compatible\n",
      " |      variable name.\n",
      " |  \n",
      " |  get_root(self)\n",
      " |      Returns the root of the elements tree.\n",
      " |  \n",
      " |  save(self, outfile, close_file=True, **kwargs)\n",
      " |      Saves an Element into a file.\n",
      " |      \n",
      " |      Parameters\n",
      " |      ----------\n",
      " |      outfile : str or file object\n",
      " |          The file (or filename) where you want to output the html.\n",
      " |      close_file : bool, default True\n",
      " |          Whether the file has to be closed after write.\n",
      " |  \n",
      " |  to_dict(self, depth=-1, ordered=True, **kwargs)\n",
      " |      Returns a dict representation of the object.\n",
      " |  \n",
      " |  to_json(self, depth=-1, **kwargs)\n",
      " |      Returns a JSON representation of the object.\n",
      " |  \n",
      " |  ----------------------------------------------------------------------\n",
      " |  Data descriptors inherited from branca.element.Element:\n",
      " |  \n",
      " |  __dict__\n",
      " |      dictionary for instance variables (if defined)\n",
      " |  \n",
      " |  __weakref__\n",
      " |      list of weak references to the object (if defined)\n",
      "\n"
     ]
    }
   ],
   "source": [
    "help(folium.Map)"
   ]
  },
  {
   "cell_type": "code",
   "execution_count": 75,
   "metadata": {},
   "outputs": [
    {
     "data": {
      "text/html": [
       "<div style=\"width:100%;\"><div style=\"position:relative;width:100%;height:0;padding-bottom:60%;\"><iframe src=\"data:text/html;charset=utf-8;base64,PCFET0NUWVBFIGh0bWw+CjxoZWFkPiAgICAKICAgIDxtZXRhIGh0dHAtZXF1aXY9ImNvbnRlbnQtdHlwZSIgY29udGVudD0idGV4dC9odG1sOyBjaGFyc2V0PVVURi04IiAvPgogICAgCiAgICAgICAgPHNjcmlwdD4KICAgICAgICAgICAgTF9OT19UT1VDSCA9IGZhbHNlOwogICAgICAgICAgICBMX0RJU0FCTEVfM0QgPSBmYWxzZTsKICAgICAgICA8L3NjcmlwdD4KICAgIAogICAgPHNjcmlwdCBzcmM9Imh0dHBzOi8vY2RuLmpzZGVsaXZyLm5ldC9ucG0vbGVhZmxldEAxLjYuMC9kaXN0L2xlYWZsZXQuanMiPjwvc2NyaXB0PgogICAgPHNjcmlwdCBzcmM9Imh0dHBzOi8vY29kZS5qcXVlcnkuY29tL2pxdWVyeS0xLjEyLjQubWluLmpzIj48L3NjcmlwdD4KICAgIDxzY3JpcHQgc3JjPSJodHRwczovL21heGNkbi5ib290c3RyYXBjZG4uY29tL2Jvb3RzdHJhcC8zLjIuMC9qcy9ib290c3RyYXAubWluLmpzIj48L3NjcmlwdD4KICAgIDxzY3JpcHQgc3JjPSJodHRwczovL2NkbmpzLmNsb3VkZmxhcmUuY29tL2FqYXgvbGlicy9MZWFmbGV0LmF3ZXNvbWUtbWFya2Vycy8yLjAuMi9sZWFmbGV0LmF3ZXNvbWUtbWFya2Vycy5qcyI+PC9zY3JpcHQ+CiAgICA8bGluayByZWw9InN0eWxlc2hlZXQiIGhyZWY9Imh0dHBzOi8vY2RuLmpzZGVsaXZyLm5ldC9ucG0vbGVhZmxldEAxLjYuMC9kaXN0L2xlYWZsZXQuY3NzIi8+CiAgICA8bGluayByZWw9InN0eWxlc2hlZXQiIGhyZWY9Imh0dHBzOi8vbWF4Y2RuLmJvb3RzdHJhcGNkbi5jb20vYm9vdHN0cmFwLzMuMi4wL2Nzcy9ib290c3RyYXAubWluLmNzcyIvPgogICAgPGxpbmsgcmVsPSJzdHlsZXNoZWV0IiBocmVmPSJodHRwczovL21heGNkbi5ib290c3RyYXBjZG4uY29tL2Jvb3RzdHJhcC8zLjIuMC9jc3MvYm9vdHN0cmFwLXRoZW1lLm1pbi5jc3MiLz4KICAgIDxsaW5rIHJlbD0ic3R5bGVzaGVldCIgaHJlZj0iaHR0cHM6Ly9tYXhjZG4uYm9vdHN0cmFwY2RuLmNvbS9mb250LWF3ZXNvbWUvNC42LjMvY3NzL2ZvbnQtYXdlc29tZS5taW4uY3NzIi8+CiAgICA8bGluayByZWw9InN0eWxlc2hlZXQiIGhyZWY9Imh0dHBzOi8vY2RuanMuY2xvdWRmbGFyZS5jb20vYWpheC9saWJzL0xlYWZsZXQuYXdlc29tZS1tYXJrZXJzLzIuMC4yL2xlYWZsZXQuYXdlc29tZS1tYXJrZXJzLmNzcyIvPgogICAgPGxpbmsgcmVsPSJzdHlsZXNoZWV0IiBocmVmPSJodHRwczovL3Jhd2Nkbi5naXRoYWNrLmNvbS9weXRob24tdmlzdWFsaXphdGlvbi9mb2xpdW0vbWFzdGVyL2ZvbGl1bS90ZW1wbGF0ZXMvbGVhZmxldC5hd2Vzb21lLnJvdGF0ZS5jc3MiLz4KICAgIDxzdHlsZT5odG1sLCBib2R5IHt3aWR0aDogMTAwJTtoZWlnaHQ6IDEwMCU7bWFyZ2luOiAwO3BhZGRpbmc6IDA7fTwvc3R5bGU+CiAgICA8c3R5bGU+I21hcCB7cG9zaXRpb246YWJzb2x1dGU7dG9wOjA7Ym90dG9tOjA7cmlnaHQ6MDtsZWZ0OjA7fTwvc3R5bGU+CiAgICAKICAgICAgICAgICAgPG1ldGEgbmFtZT0idmlld3BvcnQiIGNvbnRlbnQ9IndpZHRoPWRldmljZS13aWR0aCwKICAgICAgICAgICAgICAgIGluaXRpYWwtc2NhbGU9MS4wLCBtYXhpbXVtLXNjYWxlPTEuMCwgdXNlci1zY2FsYWJsZT1ubyIgLz4KICAgICAgICAgICAgPHN0eWxlPgogICAgICAgICAgICAgICAgI21hcF8xNThmZjcxZWNmY2I0NzU1OGVlYjNkODhjYmI3MzI1NiB7CiAgICAgICAgICAgICAgICAgICAgcG9zaXRpb246IHJlbGF0aXZlOwogICAgICAgICAgICAgICAgICAgIHdpZHRoOiAxMDAuMCU7CiAgICAgICAgICAgICAgICAgICAgaGVpZ2h0OiAxMDAuMCU7CiAgICAgICAgICAgICAgICAgICAgbGVmdDogMC4wJTsKICAgICAgICAgICAgICAgICAgICB0b3A6IDAuMCU7CiAgICAgICAgICAgICAgICB9CiAgICAgICAgICAgIDwvc3R5bGU+CiAgICAgICAgCjwvaGVhZD4KPGJvZHk+ICAgIAogICAgCiAgICAgICAgICAgIDxkaXYgY2xhc3M9ImZvbGl1bS1tYXAiIGlkPSJtYXBfMTU4ZmY3MWVjZmNiNDc1NThlZWIzZDg4Y2JiNzMyNTYiID48L2Rpdj4KICAgICAgICAKPC9ib2R5Pgo8c2NyaXB0PiAgICAKICAgIAogICAgICAgICAgICB2YXIgbWFwXzE1OGZmNzFlY2ZjYjQ3NTU4ZWViM2Q4OGNiYjczMjU2ID0gTC5tYXAoCiAgICAgICAgICAgICAgICAibWFwXzE1OGZmNzFlY2ZjYjQ3NTU4ZWViM2Q4OGNiYjczMjU2IiwKICAgICAgICAgICAgICAgIHsKICAgICAgICAgICAgICAgICAgICBjZW50ZXI6IFstMS4wLCAzMi4wXSwKICAgICAgICAgICAgICAgICAgICBjcnM6IEwuQ1JTLkVQU0czODU3LAogICAgICAgICAgICAgICAgICAgIHpvb206IDcsCiAgICAgICAgICAgICAgICAgICAgem9vbUNvbnRyb2w6IHRydWUsCiAgICAgICAgICAgICAgICAgICAgcHJlZmVyQ2FudmFzOiBmYWxzZSwKICAgICAgICAgICAgICAgIH0KICAgICAgICAgICAgKTsKCiAgICAgICAgICAgIAoKICAgICAgICAKICAgIAogICAgICAgICAgICB2YXIgdGlsZV9sYXllcl9mMzcxNmMyZjVkOWI0NTQyYTk5YjdiY2I5ODhiNGFmNyA9IEwudGlsZUxheWVyKAogICAgICAgICAgICAgICAgImh0dHBzOi8vc3RhbWVuLXRpbGVzLXtzfS5hLnNzbC5mYXN0bHkubmV0L3RlcnJhaW4ve3p9L3t4fS97eX0uanBnIiwKICAgICAgICAgICAgICAgIHsiYXR0cmlidXRpb24iOiAiTWFwIHRpbGVzIGJ5IFx1MDAzY2EgaHJlZj1cImh0dHA6Ly9zdGFtZW4uY29tXCJcdTAwM2VTdGFtZW4gRGVzaWduXHUwMDNjL2FcdTAwM2UsIHVuZGVyIFx1MDAzY2EgaHJlZj1cImh0dHA6Ly9jcmVhdGl2ZWNvbW1vbnMub3JnL2xpY2Vuc2VzL2J5LzMuMFwiXHUwMDNlQ0MgQlkgMy4wXHUwMDNjL2FcdTAwM2UuIERhdGEgYnkgXHUwMDI2Y29weTsgXHUwMDNjYSBocmVmPVwiaHR0cDovL29wZW5zdHJlZXRtYXAub3JnXCJcdTAwM2VPcGVuU3RyZWV0TWFwXHUwMDNjL2FcdTAwM2UsIHVuZGVyIFx1MDAzY2EgaHJlZj1cImh0dHA6Ly9jcmVhdGl2ZWNvbW1vbnMub3JnL2xpY2Vuc2VzL2J5LXNhLzMuMFwiXHUwMDNlQ0MgQlkgU0FcdTAwM2MvYVx1MDAzZS4iLCAiZGV0ZWN0UmV0aW5hIjogZmFsc2UsICJtYXhOYXRpdmVab29tIjogMTgsICJtYXhab29tIjogMTgsICJtaW5ab29tIjogMCwgIm5vV3JhcCI6IGZhbHNlLCAib3BhY2l0eSI6IDEsICJzdWJkb21haW5zIjogImFiYyIsICJ0bXMiOiBmYWxzZX0KICAgICAgICAgICAgKS5hZGRUbyhtYXBfMTU4ZmY3MWVjZmNiNDc1NThlZWIzZDg4Y2JiNzMyNTYpOwogICAgICAgIAo8L3NjcmlwdD4=\" style=\"position:absolute;width:100%;height:100%;left:0;top:0;border:none !important;\" allowfullscreen webkitallowfullscreen mozallowfullscreen></iframe></div></div>"
      ],
      "text/plain": [
       "<folium.folium.Map at 0x7fd97dc556d0>"
      ]
     },
     "execution_count": 75,
     "metadata": {},
     "output_type": "execute_result"
    }
   ],
   "source": [
    "\n",
    "rwanda_map = folium.Map(location=[-1.0, 32.0],\n",
    "                  zoom_start=7, tiles='Stamen Terrain',\n",
    "                    attr='Mapbox attribution')\n",
    "\n",
    "rwanda_map"
   ]
  },
  {
   "cell_type": "markdown",
   "metadata": {},
   "source": [
    "Can choose from this list of built-in tiles:\n",
    "\n",
    "    ”OpenStreetMap”\n",
    "    ”Stamen Terrain”, “Stamen Toner”, “Stamen Watercolor”\n",
    "    ”CartoDB positron”, “CartoDB dark_matter”\n",
    "    ”Mapbox Bright”, “Mapbox Control Room” (Limited zoom)\n",
    "    ”Cloudmade” (Must pass API key)\n",
    "    ”Mapbox” (Must pass API key)"
   ]
  },
  {
   "cell_type": "code",
   "execution_count": 78,
   "metadata": {},
   "outputs": [
    {
     "data": {
      "text/html": [
       "<div style=\"width:100%;\"><div style=\"position:relative;width:100%;height:0;padding-bottom:60%;\"><iframe src=\"data:text/html;charset=utf-8;base64,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\" style=\"position:absolute;width:100%;height:100%;left:0;top:0;border:none !important;\" allowfullscreen webkitallowfullscreen mozallowfullscreen></iframe></div></div>"
      ],
      "text/plain": [
       "<folium.folium.Map at 0x7fd97dc59d90>"
      ]
     },
     "execution_count": 78,
     "metadata": {},
     "output_type": "execute_result"
    }
   ],
   "source": [
    "rwanda_map = folium.Map(location=[-1.0, 32.0],\n",
    "                  zoom_start=7, tiles='CartoDB positron',\n",
    "                    attr='Mapbox attribution')\n",
    "\n",
    "rwanda_map"
   ]
  },
  {
   "cell_type": "code",
   "execution_count": 81,
   "metadata": {},
   "outputs": [
    {
     "data": {
      "text/plain": [
       "'{\"type\": \"FeatureCollection\", \"features\": [{\"id\": \"19404\", \"type\": \"Feature\", \"properties\": {}, \"geometry\": {\"type\": \"Polygon\", \"coordinates\": [[[31.548555712158997, -2.3269735666678293], [29.9024, -2.08785], [29.91840452349767, -2.0125906571039205], [30.21113228359267, -0.6360736445607913], [30.226, -0.56616], [31.87106776007167, -0.8051353165776722], [31.8711, -0.80514], [31.5486, -2.32698], [31.548555712158997, -2.3269735666678293]]]}, \"bbox\": [29.9024, -2.32698, 31.8711, -0.56616]}], \"bbox\": [29.9024, -2.32698, 31.8711, -0.56616]}'"
      ]
     },
     "execution_count": 81,
     "metadata": {},
     "output_type": "execute_result"
    }
   ],
   "source": [
    "my_useful_geojson\n",
    "\n"
   ]
  },
  {
   "cell_type": "code",
   "execution_count": 94,
   "metadata": {},
   "outputs": [
    {
     "data": {
      "text/html": [
       "<div style=\"width:100%;\"><div style=\"position:relative;width:100%;height:0;padding-bottom:60%;\"><iframe src=\"data:text/html;charset=utf-8;base64,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\" style=\"position:absolute;width:100%;height:100%;left:0;top:0;border:none !important;\" allowfullscreen webkitallowfullscreen mozallowfullscreen></iframe></div></div>"
      ],
      "text/plain": [
       "<folium.folium.Map at 0x7fd97dc71110>"
      ]
     },
     "execution_count": 94,
     "metadata": {},
     "output_type": "execute_result"
    }
   ],
   "source": [
    "rwanda_map = folium.Map(location=[-1.0, 32.0],\n",
    "                   tiles='OpenStreetMap', zoom_start=7)\n",
    "style_function = lambda x: {'fillColor': 'red', 'color': 'green'} \n",
    "gjson = folium.GeoJson(my_useful_geojson, style_function=style_function, tooltip='Tony').add_to(rwanda_map)\n",
    "#folium.features.GeoJsonPopup(fields=[\"id\",],labels=True, class_name='tony' ).add_to(gjson)\n",
    "\n",
    "rwanda_map"
   ]
  },
  {
   "cell_type": "code",
   "execution_count": 83,
   "metadata": {},
   "outputs": [
    {
     "name": "stdout",
     "output_type": "stream",
     "text": [
      "Help on class GeoJsonPopup in module folium.features:\n",
      "\n",
      "class GeoJsonPopup(GeoJsonDetail)\n",
      " |  GeoJsonPopup(fields=None, aliases=None, labels=True, style='margin: auto;', class_name='foliumpopup', localize=True, **kwargs)\n",
      " |  \n",
      " |  Create a popup feature to bind to each element of a GeoJson layer based on\n",
      " |  its attributes.\n",
      " |  \n",
      " |  Parameters\n",
      " |  ----------\n",
      " |  fields: list or tuple.\n",
      " |      Labels of GeoJson/TopoJson 'properties' or GeoPandas GeoDataFrame\n",
      " |      columns you'd like to display.\n",
      " |  aliases: list/tuple of strings, same length/order as fields, default None.\n",
      " |      Optional aliases you'd like to display in the tooltip as field name\n",
      " |      instead of the keys of `fields`.\n",
      " |  labels: bool, default True.\n",
      " |      Set to False to disable displaying the field names or aliases.\n",
      " |  localize: bool, default False.\n",
      " |      This will use JavaScript's .toLocaleString() to format 'clean' values\n",
      " |      as strings for the user's location; i.e. 1,000,000.00 comma separators,\n",
      " |      float truncation, etc.\n",
      " |      *Available for most of JavaScript's primitive types (any data you'll\n",
      " |      serve into the template).\n",
      " |  style: str, default None.\n",
      " |      HTML inline style properties like font and colors. Will be applied to\n",
      " |      a div with the text in it.\n",
      " |  \n",
      " |  Examples\n",
      " |  ---\n",
      " |  gjson = folium.GeoJson(gdf).add_to(m)\n",
      " |  \n",
      " |  folium.features.GeoJsonPopup(fields=['NAME'],\n",
      " |                              labels=False\n",
      " |                              ).add_to(gjson)\n",
      " |  \n",
      " |  Method resolution order:\n",
      " |      GeoJsonPopup\n",
      " |      GeoJsonDetail\n",
      " |      branca.element.MacroElement\n",
      " |      branca.element.Element\n",
      " |      builtins.object\n",
      " |  \n",
      " |  Methods defined here:\n",
      " |  \n",
      " |  __init__(self, fields=None, aliases=None, labels=True, style='margin: auto;', class_name='foliumpopup', localize=True, **kwargs)\n",
      " |      Initialize self.  See help(type(self)) for accurate signature.\n",
      " |  \n",
      " |  ----------------------------------------------------------------------\n",
      " |  Methods inherited from GeoJsonDetail:\n",
      " |  \n",
      " |  render(self, **kwargs)\n",
      " |      Renders the HTML representation of the element.\n",
      " |  \n",
      " |  warn_for_geometry_collections(self)\n",
      " |      Checks for GeoJson GeometryCollection features to warn user about incompatibility.\n",
      " |  \n",
      " |  ----------------------------------------------------------------------\n",
      " |  Data and other attributes inherited from GeoJsonDetail:\n",
      " |  \n",
      " |  base_template = '\\n    function(layer){\\n    let div = L.DomUtil.cr......\n",
      " |  \n",
      " |  ----------------------------------------------------------------------\n",
      " |  Methods inherited from branca.element.Element:\n",
      " |  \n",
      " |  add_child(self, child, name=None, index=None)\n",
      " |      Add a child.\n",
      " |  \n",
      " |  add_children(self, child, name=None, index=None)\n",
      " |      Add a child.\n",
      " |  \n",
      " |  add_to(self, parent, name=None, index=None)\n",
      " |      Add element to a parent.\n",
      " |  \n",
      " |  get_bounds(self)\n",
      " |      Computes the bounds of the object and all it's children\n",
      " |      in the form [[lat_min, lon_min], [lat_max, lon_max]].\n",
      " |  \n",
      " |  get_name(self)\n",
      " |      Returns a string representation of the object.\n",
      " |      This string has to be unique and to be a python and\n",
      " |      javascript-compatible\n",
      " |      variable name.\n",
      " |  \n",
      " |  get_root(self)\n",
      " |      Returns the root of the elements tree.\n",
      " |  \n",
      " |  save(self, outfile, close_file=True, **kwargs)\n",
      " |      Saves an Element into a file.\n",
      " |      \n",
      " |      Parameters\n",
      " |      ----------\n",
      " |      outfile : str or file object\n",
      " |          The file (or filename) where you want to output the html.\n",
      " |      close_file : bool, default True\n",
      " |          Whether the file has to be closed after write.\n",
      " |  \n",
      " |  to_dict(self, depth=-1, ordered=True, **kwargs)\n",
      " |      Returns a dict representation of the object.\n",
      " |  \n",
      " |  to_json(self, depth=-1, **kwargs)\n",
      " |      Returns a JSON representation of the object.\n",
      " |  \n",
      " |  ----------------------------------------------------------------------\n",
      " |  Data descriptors inherited from branca.element.Element:\n",
      " |  \n",
      " |  __dict__\n",
      " |      dictionary for instance variables (if defined)\n",
      " |  \n",
      " |  __weakref__\n",
      " |      list of weak references to the object (if defined)\n",
      "\n"
     ]
    }
   ],
   "source": [
    "help(folium.features.GeoJsonPopup)"
   ]
  },
  {
   "cell_type": "code",
   "execution_count": 92,
   "metadata": {},
   "outputs": [
    {
     "name": "stdout",
     "output_type": "stream",
     "text": [
      "Help on class GeoJson in module folium.features:\n",
      "\n",
      "class GeoJson(folium.map.Layer)\n",
      " |  GeoJson(data, style_function=None, highlight_function=None, name=None, overlay=True, control=True, show=True, smooth_factor=None, tooltip=None, embed=True, popup=None)\n",
      " |  \n",
      " |  Creates a GeoJson object for plotting into a Map.\n",
      " |  \n",
      " |  Parameters\n",
      " |  ----------\n",
      " |  data: file, dict or str.\n",
      " |      The GeoJSON data you want to plot.\n",
      " |      * If file, then data will be read in the file and fully\n",
      " |      embedded in Leaflet's JavaScript.\n",
      " |      * If dict, then data will be converted to JSON and embedded\n",
      " |      in the JavaScript.\n",
      " |      * If str, then data will be passed to the JavaScript as-is.\n",
      " |  style_function: function, default None\n",
      " |      Function mapping a GeoJson Feature to a style dict.\n",
      " |  highlight_function: function, default None\n",
      " |      Function mapping a GeoJson Feature to a style dict for mouse events.\n",
      " |  name : string, default None\n",
      " |      The name of the Layer, as it will appear in LayerControls\n",
      " |  overlay : bool, default True\n",
      " |      Adds the layer as an optional overlay (True) or the base layer (False).\n",
      " |  control : bool, default True\n",
      " |      Whether the Layer will be included in LayerControls\n",
      " |  show: bool, default True\n",
      " |      Whether the layer will be shown on opening (only for overlays).\n",
      " |  smooth_factor: float, default None\n",
      " |      How much to simplify the polyline on each zoom level. More means\n",
      " |      better performance and smoother look, and less means more accurate\n",
      " |      representation. Leaflet defaults to 1.0.\n",
      " |  tooltip: GeoJsonTooltip, Tooltip or str, default None\n",
      " |      Display a text when hovering over the object. Can utilize the data,\n",
      " |      see folium.GeoJsonTooltip for info on how to do that.\n",
      " |  embed: bool, default True\n",
      " |      Whether to embed the data in the html file or not. Note that disabling\n",
      " |      embedding is only supported if you provide a file link or URL.\n",
      " |  \n",
      " |  Examples\n",
      " |  --------\n",
      " |  >>> # Providing filename that shall be embedded.\n",
      " |  >>> GeoJson('foo.json')\n",
      " |  >>> # Providing filename that shall not be embedded.\n",
      " |  >>> GeoJson('foo.json', embed=False)\n",
      " |  >>> # Providing dict.\n",
      " |  >>> GeoJson(json.load(open('foo.json')))\n",
      " |  >>> # Providing string.\n",
      " |  >>> GeoJson(open('foo.json').read())\n",
      " |  \n",
      " |  >>> # Provide a style_function that color all states green but Alabama.\n",
      " |  >>> style_function = lambda x: {'fillColor': '#0000ff' if\n",
      " |  ...                             x['properties']['name']=='Alabama' else\n",
      " |  ...                             '#00ff00'}\n",
      " |  >>> GeoJson(geojson, style_function=style_function)\n",
      " |  \n",
      " |  Method resolution order:\n",
      " |      GeoJson\n",
      " |      folium.map.Layer\n",
      " |      branca.element.MacroElement\n",
      " |      branca.element.Element\n",
      " |      builtins.object\n",
      " |  \n",
      " |  Methods defined here:\n",
      " |  \n",
      " |  __init__(self, data, style_function=None, highlight_function=None, name=None, overlay=True, control=True, show=True, smooth_factor=None, tooltip=None, embed=True, popup=None)\n",
      " |      Initialize self.  See help(type(self)) for accurate signature.\n",
      " |  \n",
      " |  convert_to_feature_collection(self)\n",
      " |      Convert data into a FeatureCollection if it is not already.\n",
      " |  \n",
      " |  find_identifier(self)\n",
      " |      Find a unique identifier for each feature, create it if needed.\n",
      " |      \n",
      " |      According to the GeoJSON specs a feature:\n",
      " |       - MAY have an 'id' field with a string or numerical value.\n",
      " |       - MUST have a 'properties' field. The content can be any json object\n",
      " |         or even null.\n",
      " |  \n",
      " |  process_data(self, data)\n",
      " |      Convert an unknown data input into a geojson dictionary.\n",
      " |  \n",
      " |  render(self, **kwargs)\n",
      " |      Renders the HTML representation of the element.\n",
      " |  \n",
      " |  ----------------------------------------------------------------------\n",
      " |  Methods inherited from branca.element.Element:\n",
      " |  \n",
      " |  add_child(self, child, name=None, index=None)\n",
      " |      Add a child.\n",
      " |  \n",
      " |  add_children(self, child, name=None, index=None)\n",
      " |      Add a child.\n",
      " |  \n",
      " |  add_to(self, parent, name=None, index=None)\n",
      " |      Add element to a parent.\n",
      " |  \n",
      " |  get_bounds(self)\n",
      " |      Computes the bounds of the object and all it's children\n",
      " |      in the form [[lat_min, lon_min], [lat_max, lon_max]].\n",
      " |  \n",
      " |  get_name(self)\n",
      " |      Returns a string representation of the object.\n",
      " |      This string has to be unique and to be a python and\n",
      " |      javascript-compatible\n",
      " |      variable name.\n",
      " |  \n",
      " |  get_root(self)\n",
      " |      Returns the root of the elements tree.\n",
      " |  \n",
      " |  save(self, outfile, close_file=True, **kwargs)\n",
      " |      Saves an Element into a file.\n",
      " |      \n",
      " |      Parameters\n",
      " |      ----------\n",
      " |      outfile : str or file object\n",
      " |          The file (or filename) where you want to output the html.\n",
      " |      close_file : bool, default True\n",
      " |          Whether the file has to be closed after write.\n",
      " |  \n",
      " |  to_dict(self, depth=-1, ordered=True, **kwargs)\n",
      " |      Returns a dict representation of the object.\n",
      " |  \n",
      " |  to_json(self, depth=-1, **kwargs)\n",
      " |      Returns a JSON representation of the object.\n",
      " |  \n",
      " |  ----------------------------------------------------------------------\n",
      " |  Data descriptors inherited from branca.element.Element:\n",
      " |  \n",
      " |  __dict__\n",
      " |      dictionary for instance variables (if defined)\n",
      " |  \n",
      " |  __weakref__\n",
      " |      list of weak references to the object (if defined)\n",
      "\n"
     ]
    }
   ],
   "source": [
    "help (folium.GeoJson)"
   ]
  },
  {
   "cell_type": "code",
   "execution_count": null,
   "metadata": {},
   "outputs": [],
   "source": []
  }
 ],
 "metadata": {
  "kernelspec": {
   "display_name": "Python 3",
   "language": "python",
   "name": "python3"
  },
  "language_info": {
   "codemirror_mode": {
    "name": "ipython",
    "version": 3
   },
   "file_extension": ".py",
   "mimetype": "text/x-python",
   "name": "python",
   "nbconvert_exporter": "python",
   "pygments_lexer": "ipython3",
   "version": "3.7.6"
  }
 },
 "nbformat": 4,
 "nbformat_minor": 4
}
