{
 "cells": [
  {
   "cell_type": "markdown",
   "metadata": {},
   "source": [
    "# find the intersections within of an AOI against the tile db"
   ]
  },
  {
   "cell_type": "code",
   "execution_count": null,
   "metadata": {},
   "outputs": [],
   "source": [
    "import xarray as xr\n",
    "import hvplot.xarray\n",
    "import dask\n",
    "from dask.distributed import Client, progress\n",
    "#from dask_kubernetes import KubeCluster\n",
    "import os\n",
    "import fsspec"
   ]
  },
  {
   "cell_type": "code",
   "execution_count": null,
   "metadata": {},
   "outputs": [],
   "source": [
    "import pandas as pd\n",
    "df = pd.read_pickle('../00-ET-inputs-and-outputs/tile_catalog_df.pkl')"
   ]
  },
  {
   "cell_type": "code",
   "execution_count": null,
   "metadata": {},
   "outputs": [],
   "source": [
    "df"
   ]
  },
  {
   "cell_type": "code",
   "execution_count": null,
   "metadata": {},
   "outputs": [],
   "source": [
    "import geopandas\n",
    "from shapely.geometry import box\n",
    "#import shapely.bounding.box as box\n",
    "\n",
    "#Once you have converted the bounding boxes to polygons, make sure to actually create a GeoDataFrame:\n",
    "b = df.apply(lambda row: box(row.left, row.bottom, row.right, row.top), axis=1)\n",
    "gdf = geopandas.GeoDataFrame(df, geometry=b)"
   ]
  },
  {
   "cell_type": "code",
   "execution_count": null,
   "metadata": {},
   "outputs": [],
   "source": [
    "gdf.head()"
   ]
  },
  {
   "cell_type": "code",
   "execution_count": null,
   "metadata": {},
   "outputs": [],
   "source": [
    "import folium\n",
    "\n",
    "tony_plot_tiles_json = gdf.to_json()\n",
    "\n",
    "map_osm = folium.Map(location=[35, -90], zoom_start=5)\n",
    "\n",
    "tile_boxes=folium.features.GeoJson(tony_plot_tiles_json)\n",
    "map_osm.add_child(tile_boxes)\n",
    "\n",
    "import json \n",
    "\n",
    "with open(\"atlanta_aoi.geojson\") as f:\n",
    "    atlanta_geo = json.load(f)\n",
    "\n",
    "at = folium.features.GeoJson(atlanta_geo)\n",
    "map_osm.add_child(at)\n",
    "map_osm"
   ]
  },
  {
   "cell_type": "code",
   "execution_count": null,
   "metadata": {},
   "outputs": [],
   "source": [
    "import json\n",
    "from shapely.geometry import shape, GeometryCollection\n",
    "\n",
    "with open(\"atlanta_aoi.geojson\") as f:\n",
    "  features = json.load(f)[\"features\"]\n",
    "\n",
    "# NOTE: buffer(0) is a trick for fixing scenarios where polygons have overlapping coordinates \n",
    "atlanta_shapely = GeometryCollection([shape(feature[\"geometry\"]).buffer(0) for feature in features])"
   ]
  },
  {
   "cell_type": "code",
   "execution_count": null,
   "metadata": {},
   "outputs": [],
   "source": [
    "\n",
    "new_gdf = gdf.loc[gdf.within(atlanta_shapely)]"
   ]
  },
  {
   "cell_type": "code",
   "execution_count": null,
   "metadata": {},
   "outputs": [],
   "source": [
    "new_gdf"
   ]
  },
  {
   "cell_type": "code",
   "execution_count": null,
   "metadata": {},
   "outputs": [],
   "source": [
    "new_gdf = gdf.loc[gdf.intersects(atlanta_shapely)]"
   ]
  },
  {
   "cell_type": "code",
   "execution_count": null,
   "metadata": {},
   "outputs": [],
   "source": [
    "new_gdf"
   ]
  },
  {
   "cell_type": "code",
   "execution_count": null,
   "metadata": {},
   "outputs": [],
   "source": [
    "rf_list=[]\n",
    "for index,row in new_gdf.iterrows():\n",
    "    print(row.Chip)\n",
    "    #raster_file = '/vsis3/' + row.Chip + '/etasw_2014.tif'\n",
    "    raster_file = row.Chip + '/etasw_2014.tif'\n",
    "    rf_list.append(raster_file)"
   ]
  },
  {
   "cell_type": "code",
   "execution_count": null,
   "metadata": {},
   "outputs": [],
   "source": [
    "rf_list"
   ]
  },
  {
   "cell_type": "code",
   "execution_count": null,
   "metadata": {},
   "outputs": [],
   "source": [
    "from pangeoLib .aws_authenticate import aws_authenticate\n",
    "aws_authenticate()"
   ]
  },
  {
   "cell_type": "code",
   "execution_count": null,
   "metadata": {},
   "outputs": [],
   "source": [
    "da = xr.open_rasterio('s3://'+rf_list[0])\n",
    "da\n",
    "da = da.squeeze().drop(labels='band')\n",
    "da.plot()"
   ]
  },
  {
   "cell_type": "code",
   "execution_count": null,
   "metadata": {},
   "outputs": [],
   "source": [
    "ds = da.to_dataset(name='etasw_annual')\n",
    "\n",
    "\n",
    "ds.etasw_annual.plot()"
   ]
  },
  {
   "cell_type": "code",
   "execution_count": null,
   "metadata": {},
   "outputs": [],
   "source": [
    "ds"
   ]
  },
  {
   "cell_type": "code",
   "execution_count": null,
   "metadata": {},
   "outputs": [],
   "source": [
    "ds.hvplot(grid=True)"
   ]
  },
  {
   "cell_type": "code",
   "execution_count": null,
   "metadata": {},
   "outputs": [],
   "source": [
    "from time import time\n"
   ]
  },
  {
   "cell_type": "code",
   "execution_count": null,
   "metadata": {},
   "outputs": [],
   "source": [
    "%%time\n",
    "tifs = rf_list\n",
    "\n",
    "start = time()\n",
    "my_da_list =[]\n",
    "for tif in tifs:\n",
    "    da = xr.open_rasterio('s3://'+tif)\n",
    "    da = da.squeeze().drop(labels='band')\n",
    "    da.name='mosaic'\n",
    "    my_da_list.append(da)\n",
    "    tnow = time()\n",
    "    elapsed = tnow - start\n",
    "    print(tif, elapsed)\n",
    "    \n",
    "da"
   ]
  },
  {
   "cell_type": "code",
   "execution_count": null,
   "metadata": {},
   "outputs": [],
   "source": [
    "ds = xr.merge(my_da_list)\n"
   ]
  },
  {
   "cell_type": "code",
   "execution_count": null,
   "metadata": {},
   "outputs": [],
   "source": [
    "ds_masked = ds.where(ds>0.0)"
   ]
  },
  {
   "cell_type": "code",
   "execution_count": null,
   "metadata": {},
   "outputs": [],
   "source": [
    "ds_masked.mosaic.plot(cmap='viridis')"
   ]
  },
  {
   "cell_type": "code",
   "execution_count": null,
   "metadata": {},
   "outputs": [],
   "source": [
    "%%time\n",
    "ds_masked.hvplot(grid=True, invert=True, width=600, height=500, cmap='viridis')"
   ]
  },
  {
   "cell_type": "code",
   "execution_count": null,
   "metadata": {},
   "outputs": [],
   "source": [
    "ds_masked"
   ]
  },
  {
   "cell_type": "code",
   "execution_count": null,
   "metadata": {},
   "outputs": [],
   "source": [
    "dir(ds)"
   ]
  },
  {
   "cell_type": "code",
   "execution_count": null,
   "metadata": {},
   "outputs": [],
   "source": [
    "dir(gdf)"
   ]
  },
  {
   "cell_type": "code",
   "execution_count": null,
   "metadata": {},
   "outputs": [],
   "source": []
  }
 ],
 "metadata": {
  "kernelspec": {
   "display_name": "Python 3",
   "language": "python",
   "name": "python3"
  },
  "language_info": {
   "codemirror_mode": {
    "name": "ipython",
    "version": 3
   },
   "file_extension": ".py",
   "mimetype": "text/x-python",
   "name": "python",
   "nbconvert_exporter": "python",
   "pygments_lexer": "ipython3",
   "version": "3.7.6"
  }
 },
 "nbformat": 4,
 "nbformat_minor": 4
}
